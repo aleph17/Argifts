{
 "cells": [
  {
   "cell_type": "code",
   "execution_count": 1,
   "metadata": {},
   "outputs": [],
   "source": [
    "import numpy as np\n",
    "import pandas as pd\n",
    "import matplotlib.pyplot as plt\n",
    "import seaborn as sns  "
   ]
  },
  {
   "cell_type": "code",
   "execution_count": 2,
   "metadata": {},
   "outputs": [],
   "source": [
    "orders = pd.read_csv('data/orders.csv')\n",
    "clients = pd.read_csv('data/clients.csv')\n",
    "employees = pd.read_csv('data/employees.csv')\n",
    "products = pd.read_csv('data/products.csv')\n",
    "ratings = pd.read_csv('data/ratings.csv')\n",
    "returns = pd.read_csv('data/returns.csv')\n",
    "shipping = pd.read_csv('data/shipping.csv')\n",
    "support = pd.read_csv('data/support.csv')"
   ]
  },
  {
   "cell_type": "markdown",
   "metadata": {},
   "source": [
    "quantity purchased"
   ]
  },
  {
   "cell_type": "markdown",
   "metadata": {},
   "source": [
    "dataframe.groupby()['column'].count() counts the specific column"
   ]
  },
  {
   "cell_type": "code",
   "execution_count": 4,
   "metadata": {},
   "outputs": [
    {
     "data": {
      "text/html": [
       "<div>\n",
       "<style scoped>\n",
       "    .dataframe tbody tr th:only-of-type {\n",
       "        vertical-align: middle;\n",
       "    }\n",
       "\n",
       "    .dataframe tbody tr th {\n",
       "        vertical-align: top;\n",
       "    }\n",
       "\n",
       "    .dataframe thead th {\n",
       "        text-align: right;\n",
       "    }\n",
       "</style>\n",
       "<table border=\"1\" class=\"dataframe\">\n",
       "  <thead>\n",
       "    <tr style=\"text-align: right;\">\n",
       "      <th></th>\n",
       "      <th>order_id</th>\n",
       "      <th>product_id</th>\n",
       "      <th>quantity_purchased</th>\n",
       "    </tr>\n",
       "  </thead>\n",
       "  <tbody>\n",
       "    <tr>\n",
       "      <th>0</th>\n",
       "      <td>O-000AF1130</td>\n",
       "      <td>70</td>\n",
       "      <td>1</td>\n",
       "    </tr>\n",
       "    <tr>\n",
       "      <th>1</th>\n",
       "      <td>O-000AF1130</td>\n",
       "      <td>84</td>\n",
       "      <td>1</td>\n",
       "    </tr>\n",
       "    <tr>\n",
       "      <th>2</th>\n",
       "      <td>O-000AF1130</td>\n",
       "      <td>105</td>\n",
       "      <td>1</td>\n",
       "    </tr>\n",
       "    <tr>\n",
       "      <th>3</th>\n",
       "      <td>O-000AF1130</td>\n",
       "      <td>109</td>\n",
       "      <td>1</td>\n",
       "    </tr>\n",
       "    <tr>\n",
       "      <th>4</th>\n",
       "      <td>O-000BX2004</td>\n",
       "      <td>7</td>\n",
       "      <td>1</td>\n",
       "    </tr>\n",
       "  </tbody>\n",
       "</table>\n",
       "</div>"
      ],
      "text/plain": [
       "      order_id  product_id  quantity_purchased\n",
       "0  O-000AF1130          70                   1\n",
       "1  O-000AF1130          84                   1\n",
       "2  O-000AF1130         105                   1\n",
       "3  O-000AF1130         109                   1\n",
       "4  O-000BX2004           7                   1"
      ]
     },
     "execution_count": 4,
     "metadata": {},
     "output_type": "execute_result"
    }
   ],
   "source": [
    "quantity_purchased = orders.groupby(['order_id', 'product_id'], as_index = False)['order_date'].count().rename(columns = {\"order_date\":\"quantity_purchased\"})\n",
    "quantity_purchased.head()"
   ]
  },
  {
   "cell_type": "markdown",
   "metadata": {},
   "source": [
    "quantity returned"
   ]
  },
  {
   "cell_type": "code",
   "execution_count": 7,
   "metadata": {},
   "outputs": [
    {
     "data": {
      "text/html": [
       "<div>\n",
       "<style scoped>\n",
       "    .dataframe tbody tr th:only-of-type {\n",
       "        vertical-align: middle;\n",
       "    }\n",
       "\n",
       "    .dataframe tbody tr th {\n",
       "        vertical-align: top;\n",
       "    }\n",
       "\n",
       "    .dataframe thead th {\n",
       "        text-align: right;\n",
       "    }\n",
       "</style>\n",
       "<table border=\"1\" class=\"dataframe\">\n",
       "  <thead>\n",
       "    <tr style=\"text-align: right;\">\n",
       "      <th></th>\n",
       "      <th>order_id</th>\n",
       "      <th>product_id</th>\n",
       "      <th>quantity_returned</th>\n",
       "    </tr>\n",
       "  </thead>\n",
       "  <tbody>\n",
       "    <tr>\n",
       "      <th>0</th>\n",
       "      <td>O-000Bw2933</td>\n",
       "      <td>70</td>\n",
       "      <td>1</td>\n",
       "    </tr>\n",
       "    <tr>\n",
       "      <th>1</th>\n",
       "      <td>O-000Df5137</td>\n",
       "      <td>97</td>\n",
       "      <td>1</td>\n",
       "    </tr>\n",
       "    <tr>\n",
       "      <th>2</th>\n",
       "      <td>O-000HU674</td>\n",
       "      <td>51</td>\n",
       "      <td>1</td>\n",
       "    </tr>\n",
       "    <tr>\n",
       "      <th>3</th>\n",
       "      <td>O-000Hp7898</td>\n",
       "      <td>85</td>\n",
       "      <td>1</td>\n",
       "    </tr>\n",
       "    <tr>\n",
       "      <th>4</th>\n",
       "      <td>O-000Il9723</td>\n",
       "      <td>66</td>\n",
       "      <td>1</td>\n",
       "    </tr>\n",
       "  </tbody>\n",
       "</table>\n",
       "</div>"
      ],
      "text/plain": [
       "      order_id  product_id  quantity_returned\n",
       "0  O-000Bw2933          70                  1\n",
       "1  O-000Df5137          97                  1\n",
       "2   O-000HU674          51                  1\n",
       "3  O-000Hp7898          85                  1\n",
       "4  O-000Il9723          66                  1"
      ]
     },
     "execution_count": 7,
     "metadata": {},
     "output_type": "execute_result"
    }
   ],
   "source": [
    "quantity_returned = returns.groupby(['order_id', 'product_id'], as_index = False)['return_date'].count().rename(columns = {'return_date': 'quantity_returned'})\n",
    "quantity_returned.head()"
   ]
  },
  {
   "cell_type": "code",
   "execution_count": 9,
   "metadata": {},
   "outputs": [
    {
     "data": {
      "text/html": [
       "<div>\n",
       "<style scoped>\n",
       "    .dataframe tbody tr th:only-of-type {\n",
       "        vertical-align: middle;\n",
       "    }\n",
       "\n",
       "    .dataframe tbody tr th {\n",
       "        vertical-align: top;\n",
       "    }\n",
       "\n",
       "    .dataframe thead th {\n",
       "        text-align: right;\n",
       "    }\n",
       "</style>\n",
       "<table border=\"1\" class=\"dataframe\">\n",
       "  <thead>\n",
       "    <tr style=\"text-align: right;\">\n",
       "      <th></th>\n",
       "      <th>order_id</th>\n",
       "      <th>product_id</th>\n",
       "      <th>quantity_purchased</th>\n",
       "      <th>quantity_returned</th>\n",
       "    </tr>\n",
       "  </thead>\n",
       "  <tbody>\n",
       "    <tr>\n",
       "      <th>0</th>\n",
       "      <td>O-000AF1130</td>\n",
       "      <td>70</td>\n",
       "      <td>1</td>\n",
       "      <td>NaN</td>\n",
       "    </tr>\n",
       "    <tr>\n",
       "      <th>1</th>\n",
       "      <td>O-000AF1130</td>\n",
       "      <td>84</td>\n",
       "      <td>1</td>\n",
       "      <td>NaN</td>\n",
       "    </tr>\n",
       "    <tr>\n",
       "      <th>2</th>\n",
       "      <td>O-000AF1130</td>\n",
       "      <td>105</td>\n",
       "      <td>1</td>\n",
       "      <td>NaN</td>\n",
       "    </tr>\n",
       "    <tr>\n",
       "      <th>3</th>\n",
       "      <td>O-000AF1130</td>\n",
       "      <td>109</td>\n",
       "      <td>1</td>\n",
       "      <td>NaN</td>\n",
       "    </tr>\n",
       "    <tr>\n",
       "      <th>4</th>\n",
       "      <td>O-000BX2004</td>\n",
       "      <td>7</td>\n",
       "      <td>1</td>\n",
       "      <td>NaN</td>\n",
       "    </tr>\n",
       "  </tbody>\n",
       "</table>\n",
       "</div>"
      ],
      "text/plain": [
       "      order_id  product_id  quantity_purchased  quantity_returned\n",
       "0  O-000AF1130          70                   1                NaN\n",
       "1  O-000AF1130          84                   1                NaN\n",
       "2  O-000AF1130         105                   1                NaN\n",
       "3  O-000AF1130         109                   1                NaN\n",
       "4  O-000BX2004           7                   1                NaN"
      ]
     },
     "execution_count": 9,
     "metadata": {},
     "output_type": "execute_result"
    }
   ],
   "source": [
    "quantity_purchased = pd.merge(quantity_purchased, quantity_returned, on = ['order_id', 'product_id'], how = 'left')\n",
    "quantity_purchased.head()"
   ]
  },
  {
   "cell_type": "code",
   "execution_count": 10,
   "metadata": {},
   "outputs": [
    {
     "data": {
      "text/plain": [
       "(39125, 4)"
      ]
     },
     "execution_count": 10,
     "metadata": {},
     "output_type": "execute_result"
    }
   ],
   "source": [
    "quantity_purchased[quantity_purchased['quantity_returned'].notna()].shape"
   ]
  },
  {
   "cell_type": "code",
   "execution_count": 12,
   "metadata": {},
   "outputs": [],
   "source": [
    "orders = pd.merge(orders, quantity_purchased, on = ['order_id', 'product_id'], how = 'left')"
   ]
  },
  {
   "cell_type": "code",
   "execution_count": 13,
   "metadata": {},
   "outputs": [
    {
     "data": {
      "text/plain": [
       "(39125, 6)"
      ]
     },
     "execution_count": 13,
     "metadata": {},
     "output_type": "execute_result"
    }
   ],
   "source": [
    "orders = orders.drop_duplicates()\n",
    "orders[orders['quantity_returned'].notna()].shape"
   ]
  },
  {
   "cell_type": "code",
   "execution_count": 14,
   "metadata": {},
   "outputs": [
    {
     "data": {
      "text/html": [
       "<div>\n",
       "<style scoped>\n",
       "    .dataframe tbody tr th:only-of-type {\n",
       "        vertical-align: middle;\n",
       "    }\n",
       "\n",
       "    .dataframe tbody tr th {\n",
       "        vertical-align: top;\n",
       "    }\n",
       "\n",
       "    .dataframe thead th {\n",
       "        text-align: right;\n",
       "    }\n",
       "</style>\n",
       "<table border=\"1\" class=\"dataframe\">\n",
       "  <thead>\n",
       "    <tr style=\"text-align: right;\">\n",
       "      <th></th>\n",
       "      <th>order_date</th>\n",
       "      <th>order_id</th>\n",
       "      <th>client_id</th>\n",
       "      <th>product_id</th>\n",
       "      <th>quantity_purchased</th>\n",
       "      <th>quantity_returned</th>\n",
       "    </tr>\n",
       "  </thead>\n",
       "  <tbody>\n",
       "    <tr>\n",
       "      <th>0</th>\n",
       "      <td>2020-01-01</td>\n",
       "      <td>O-140Bc1177</td>\n",
       "      <td>M8-5788593i</td>\n",
       "      <td>36</td>\n",
       "      <td>1</td>\n",
       "      <td>NaN</td>\n",
       "    </tr>\n",
       "    <tr>\n",
       "      <th>1</th>\n",
       "      <td>2020-01-01</td>\n",
       "      <td>O-412ZT8588</td>\n",
       "      <td>b4-7966766T</td>\n",
       "      <td>36</td>\n",
       "      <td>1</td>\n",
       "      <td>NaN</td>\n",
       "    </tr>\n",
       "    <tr>\n",
       "      <th>2</th>\n",
       "      <td>2020-01-01</td>\n",
       "      <td>O-855QP4607</td>\n",
       "      <td>S9-3623700t</td>\n",
       "      <td>98</td>\n",
       "      <td>2</td>\n",
       "      <td>NaN</td>\n",
       "    </tr>\n",
       "    <tr>\n",
       "      <th>4</th>\n",
       "      <td>2020-01-01</td>\n",
       "      <td>O-135YG6799</td>\n",
       "      <td>L9-0962901O</td>\n",
       "      <td>53</td>\n",
       "      <td>2</td>\n",
       "      <td>NaN</td>\n",
       "    </tr>\n",
       "    <tr>\n",
       "      <th>5</th>\n",
       "      <td>2020-01-01</td>\n",
       "      <td>O-135YG6799</td>\n",
       "      <td>L9-0962901O</td>\n",
       "      <td>77</td>\n",
       "      <td>1</td>\n",
       "      <td>NaN</td>\n",
       "    </tr>\n",
       "  </tbody>\n",
       "</table>\n",
       "</div>"
      ],
      "text/plain": [
       "   order_date     order_id    client_id  product_id  quantity_purchased  \\\n",
       "0  2020-01-01  O-140Bc1177  M8-5788593i          36                   1   \n",
       "1  2020-01-01  O-412ZT8588  b4-7966766T          36                   1   \n",
       "2  2020-01-01  O-855QP4607  S9-3623700t          98                   2   \n",
       "4  2020-01-01  O-135YG6799  L9-0962901O          53                   2   \n",
       "5  2020-01-01  O-135YG6799  L9-0962901O          77                   1   \n",
       "\n",
       "   quantity_returned  \n",
       "0                NaN  \n",
       "1                NaN  \n",
       "2                NaN  \n",
       "4                NaN  \n",
       "5                NaN  "
      ]
     },
     "execution_count": 14,
     "metadata": {},
     "output_type": "execute_result"
    }
   ],
   "source": [
    "orders.head()"
   ]
  },
  {
   "cell_type": "code",
   "execution_count": 15,
   "metadata": {},
   "outputs": [
    {
     "data": {
      "text/plain": [
       "(98, 12)"
      ]
     },
     "execution_count": 15,
     "metadata": {},
     "output_type": "execute_result"
    }
   ],
   "source": [
    "products[products.end_date.isna()].shape"
   ]
  },
  {
   "cell_type": "code",
   "execution_count": 16,
   "metadata": {},
   "outputs": [
    {
     "name": "stderr",
     "output_type": "stream",
     "text": [
      "/tmp/ipykernel_24229/3035689330.py:4: FutureWarning: A value is trying to be set on a copy of a DataFrame or Series through chained assignment using an inplace method.\n",
      "The behavior will change in pandas 3.0. This inplace method will never work because the intermediate object on which we are setting values always behaves as a copy.\n",
      "\n",
      "For example, when doing 'df[col].method(value, inplace=True)', try using 'df.method({col: value}, inplace=True)' or df[col] = df[col].method(value) instead, to perform the operation inplace on the original object.\n",
      "\n",
      "\n",
      "  products['end_date'].fillna(today, inplace= True)\n"
     ]
    },
    {
     "data": {
      "text/html": [
       "<div>\n",
       "<style scoped>\n",
       "    .dataframe tbody tr th:only-of-type {\n",
       "        vertical-align: middle;\n",
       "    }\n",
       "\n",
       "    .dataframe tbody tr th {\n",
       "        vertical-align: top;\n",
       "    }\n",
       "\n",
       "    .dataframe thead th {\n",
       "        text-align: right;\n",
       "    }\n",
       "</style>\n",
       "<table border=\"1\" class=\"dataframe\">\n",
       "  <thead>\n",
       "    <tr style=\"text-align: right;\">\n",
       "      <th></th>\n",
       "      <th>category_1</th>\n",
       "      <th>category_2</th>\n",
       "      <th>category_3</th>\n",
       "      <th>category_4</th>\n",
       "      <th>category_5</th>\n",
       "      <th>name</th>\n",
       "      <th>description</th>\n",
       "      <th>base_price</th>\n",
       "      <th>start_date</th>\n",
       "      <th>end_date</th>\n",
       "      <th>sale_price</th>\n",
       "      <th>id</th>\n",
       "    </tr>\n",
       "  </thead>\n",
       "  <tbody>\n",
       "    <tr>\n",
       "      <th>0</th>\n",
       "      <td>IT + multimédias</td>\n",
       "      <td>Audio</td>\n",
       "      <td>Casque + écouteur</td>\n",
       "      <td>Casque Gaming</td>\n",
       "      <td>NaN</td>\n",
       "      <td>SteelSeries Arctis Nova Pro Wireless</td>\n",
       "      <td>Le SteelSeries Arctis Nova Pro Gaming Headset ...</td>\n",
       "      <td>261.00</td>\n",
       "      <td>2020-01-07</td>\n",
       "      <td>2020-01-22</td>\n",
       "      <td>280.15</td>\n",
       "      <td>0</td>\n",
       "    </tr>\n",
       "    <tr>\n",
       "      <th>1</th>\n",
       "      <td>IT + multimédias</td>\n",
       "      <td>Audio</td>\n",
       "      <td>Casque + écouteur</td>\n",
       "      <td>Casque Gaming</td>\n",
       "      <td>NaN</td>\n",
       "      <td>SteelSeries Arctis Nova Pro Wireless</td>\n",
       "      <td>Le SteelSeries Arctis Nova Pro Gaming Headset ...</td>\n",
       "      <td>261.00</td>\n",
       "      <td>2020-01-23</td>\n",
       "      <td>2020-02-11</td>\n",
       "      <td>282.17</td>\n",
       "      <td>0</td>\n",
       "    </tr>\n",
       "    <tr>\n",
       "      <th>2</th>\n",
       "      <td>IT + multimédias</td>\n",
       "      <td>Audio</td>\n",
       "      <td>Casque + écouteur</td>\n",
       "      <td>Casque Gaming</td>\n",
       "      <td>NaN</td>\n",
       "      <td>SteelSeries Arctis Nova Pro Wireless</td>\n",
       "      <td>Le SteelSeries Arctis Nova Pro Gaming Headset ...</td>\n",
       "      <td>261.00</td>\n",
       "      <td>2020-02-12</td>\n",
       "      <td>2020-03-05</td>\n",
       "      <td>280.51</td>\n",
       "      <td>0</td>\n",
       "    </tr>\n",
       "    <tr>\n",
       "      <th>3</th>\n",
       "      <td>IT + multimédias</td>\n",
       "      <td>Audio</td>\n",
       "      <td>Casque + écouteur</td>\n",
       "      <td>Casque Gaming</td>\n",
       "      <td>NaN</td>\n",
       "      <td>SteelSeries Arctis Nova Pro Wireless</td>\n",
       "      <td>Le SteelSeries Arctis Nova Pro Gaming Headset ...</td>\n",
       "      <td>261.00</td>\n",
       "      <td>2020-03-06</td>\n",
       "      <td>2020-03-27</td>\n",
       "      <td>279.68</td>\n",
       "      <td>0</td>\n",
       "    </tr>\n",
       "    <tr>\n",
       "      <th>4</th>\n",
       "      <td>IT + multimédias</td>\n",
       "      <td>Audio</td>\n",
       "      <td>Casque + écouteur</td>\n",
       "      <td>Casque Gaming</td>\n",
       "      <td>NaN</td>\n",
       "      <td>SteelSeries Arctis Nova Pro Wireless</td>\n",
       "      <td>Le SteelSeries Arctis Nova Pro Gaming Headset ...</td>\n",
       "      <td>261.00</td>\n",
       "      <td>2020-03-28</td>\n",
       "      <td>2020-04-14</td>\n",
       "      <td>281.12</td>\n",
       "      <td>0</td>\n",
       "    </tr>\n",
       "    <tr>\n",
       "      <th>...</th>\n",
       "      <td>...</td>\n",
       "      <td>...</td>\n",
       "      <td>...</td>\n",
       "      <td>...</td>\n",
       "      <td>...</td>\n",
       "      <td>...</td>\n",
       "      <td>...</td>\n",
       "      <td>...</td>\n",
       "      <td>...</td>\n",
       "      <td>...</td>\n",
       "      <td>...</td>\n",
       "      <td>...</td>\n",
       "    </tr>\n",
       "    <tr>\n",
       "      <th>8567</th>\n",
       "      <td>Beauté + santé</td>\n",
       "      <td>Santé</td>\n",
       "      <td>Massages</td>\n",
       "      <td>Pistolet de massage</td>\n",
       "      <td>NaN</td>\n",
       "      <td>Beurer MG 99</td>\n",
       "      <td>Ce pistolet de massage stylé permet de relâche...</td>\n",
       "      <td>69.21</td>\n",
       "      <td>2024-03-06</td>\n",
       "      <td>2024-03-28</td>\n",
       "      <td>75.36</td>\n",
       "      <td>109</td>\n",
       "    </tr>\n",
       "    <tr>\n",
       "      <th>8568</th>\n",
       "      <td>Beauté + santé</td>\n",
       "      <td>Santé</td>\n",
       "      <td>Massages</td>\n",
       "      <td>Pistolet de massage</td>\n",
       "      <td>NaN</td>\n",
       "      <td>Beurer MG 99</td>\n",
       "      <td>Ce pistolet de massage stylé permet de relâche...</td>\n",
       "      <td>69.21</td>\n",
       "      <td>2024-03-29</td>\n",
       "      <td>2024-04-22</td>\n",
       "      <td>75.12</td>\n",
       "      <td>109</td>\n",
       "    </tr>\n",
       "    <tr>\n",
       "      <th>8569</th>\n",
       "      <td>Beauté + santé</td>\n",
       "      <td>Santé</td>\n",
       "      <td>Massages</td>\n",
       "      <td>Pistolet de massage</td>\n",
       "      <td>NaN</td>\n",
       "      <td>Beurer MG 99</td>\n",
       "      <td>Ce pistolet de massage stylé permet de relâche...</td>\n",
       "      <td>69.21</td>\n",
       "      <td>2024-04-23</td>\n",
       "      <td>2024-05-19</td>\n",
       "      <td>75.83</td>\n",
       "      <td>109</td>\n",
       "    </tr>\n",
       "    <tr>\n",
       "      <th>8570</th>\n",
       "      <td>Beauté + santé</td>\n",
       "      <td>Santé</td>\n",
       "      <td>Massages</td>\n",
       "      <td>Pistolet de massage</td>\n",
       "      <td>NaN</td>\n",
       "      <td>Beurer MG 99</td>\n",
       "      <td>Ce pistolet de massage stylé permet de relâche...</td>\n",
       "      <td>69.21</td>\n",
       "      <td>2024-05-20</td>\n",
       "      <td>2024-06-11</td>\n",
       "      <td>75.78</td>\n",
       "      <td>109</td>\n",
       "    </tr>\n",
       "    <tr>\n",
       "      <th>8571</th>\n",
       "      <td>Beauté + santé</td>\n",
       "      <td>Santé</td>\n",
       "      <td>Massages</td>\n",
       "      <td>Pistolet de massage</td>\n",
       "      <td>NaN</td>\n",
       "      <td>Beurer MG 99</td>\n",
       "      <td>Ce pistolet de massage stylé permet de relâche...</td>\n",
       "      <td>69.21</td>\n",
       "      <td>2024-06-12</td>\n",
       "      <td>2024-06-23</td>\n",
       "      <td>75.36</td>\n",
       "      <td>109</td>\n",
       "    </tr>\n",
       "  </tbody>\n",
       "</table>\n",
       "<p>8572 rows × 12 columns</p>\n",
       "</div>"
      ],
      "text/plain": [
       "            category_1 category_2         category_3           category_4  \\\n",
       "0     IT + multimédias      Audio  Casque + écouteur        Casque Gaming   \n",
       "1     IT + multimédias      Audio  Casque + écouteur        Casque Gaming   \n",
       "2     IT + multimédias      Audio  Casque + écouteur        Casque Gaming   \n",
       "3     IT + multimédias      Audio  Casque + écouteur        Casque Gaming   \n",
       "4     IT + multimédias      Audio  Casque + écouteur        Casque Gaming   \n",
       "...                ...        ...                ...                  ...   \n",
       "8567    Beauté + santé      Santé           Massages  Pistolet de massage   \n",
       "8568    Beauté + santé      Santé           Massages  Pistolet de massage   \n",
       "8569    Beauté + santé      Santé           Massages  Pistolet de massage   \n",
       "8570    Beauté + santé      Santé           Massages  Pistolet de massage   \n",
       "8571    Beauté + santé      Santé           Massages  Pistolet de massage   \n",
       "\n",
       "     category_5                                  name  \\\n",
       "0           NaN  SteelSeries Arctis Nova Pro Wireless   \n",
       "1           NaN  SteelSeries Arctis Nova Pro Wireless   \n",
       "2           NaN  SteelSeries Arctis Nova Pro Wireless   \n",
       "3           NaN  SteelSeries Arctis Nova Pro Wireless   \n",
       "4           NaN  SteelSeries Arctis Nova Pro Wireless   \n",
       "...         ...                                   ...   \n",
       "8567        NaN                          Beurer MG 99   \n",
       "8568        NaN                          Beurer MG 99   \n",
       "8569        NaN                          Beurer MG 99   \n",
       "8570        NaN                          Beurer MG 99   \n",
       "8571        NaN                          Beurer MG 99   \n",
       "\n",
       "                                            description  base_price  \\\n",
       "0     Le SteelSeries Arctis Nova Pro Gaming Headset ...      261.00   \n",
       "1     Le SteelSeries Arctis Nova Pro Gaming Headset ...      261.00   \n",
       "2     Le SteelSeries Arctis Nova Pro Gaming Headset ...      261.00   \n",
       "3     Le SteelSeries Arctis Nova Pro Gaming Headset ...      261.00   \n",
       "4     Le SteelSeries Arctis Nova Pro Gaming Headset ...      261.00   \n",
       "...                                                 ...         ...   \n",
       "8567  Ce pistolet de massage stylé permet de relâche...       69.21   \n",
       "8568  Ce pistolet de massage stylé permet de relâche...       69.21   \n",
       "8569  Ce pistolet de massage stylé permet de relâche...       69.21   \n",
       "8570  Ce pistolet de massage stylé permet de relâche...       69.21   \n",
       "8571  Ce pistolet de massage stylé permet de relâche...       69.21   \n",
       "\n",
       "     start_date   end_date  sale_price   id  \n",
       "0    2020-01-07 2020-01-22      280.15    0  \n",
       "1    2020-01-23 2020-02-11      282.17    0  \n",
       "2    2020-02-12 2020-03-05      280.51    0  \n",
       "3    2020-03-06 2020-03-27      279.68    0  \n",
       "4    2020-03-28 2020-04-14      281.12    0  \n",
       "...         ...        ...         ...  ...  \n",
       "8567 2024-03-06 2024-03-28       75.36  109  \n",
       "8568 2024-03-29 2024-04-22       75.12  109  \n",
       "8569 2024-04-23 2024-05-19       75.83  109  \n",
       "8570 2024-05-20 2024-06-11       75.78  109  \n",
       "8571 2024-06-12 2024-06-23       75.36  109  \n",
       "\n",
       "[8572 rows x 12 columns]"
      ]
     },
     "execution_count": 16,
     "metadata": {},
     "output_type": "execute_result"
    }
   ],
   "source": [
    "from datetime import datetime\n",
    "today = datetime.today().date()\n",
    "products['start_date'] = pd.to_datetime(products['start_date'])\n",
    "products['end_date'].fillna(today, inplace= True)\n",
    "products['end_date'] = pd.to_datetime(products['end_date'])\n",
    "products"
   ]
  },
  {
   "cell_type": "code",
   "execution_count": 19,
   "metadata": {},
   "outputs": [
    {
     "data": {
      "text/plain": [
       "((274085, 17), 110)"
      ]
     },
     "execution_count": 19,
     "metadata": {},
     "output_type": "execute_result"
    }
   ],
   "source": [
    "orders['order_date'] = pd.to_datetime(orders['order_date'])\n",
    "products.rename({'id':'product_id'}, axis = 1, inplace = True)\n",
    "\n",
    "products = pd.merge(products, orders, on = 'product_id', how = 'left')\n",
    "products = products[(products.order_date <= products.end_date) & (products.order_date >= products.start_date)]\n",
    "products.shape, products.product_id.nunique()"
   ]
  },
  {
   "cell_type": "markdown",
   "metadata": {},
   "source": [
    "sales, margin, revenue"
   ]
  },
  {
   "cell_type": "code",
   "execution_count": 20,
   "metadata": {},
   "outputs": [],
   "source": [
    "products['sales'] = products['sale_price'] * products['quantity_purchased']"
   ]
  },
  {
   "cell_type": "code",
   "execution_count": 21,
   "metadata": {},
   "outputs": [
    {
     "data": {
      "text/html": [
       "<div>\n",
       "<style scoped>\n",
       "    .dataframe tbody tr th:only-of-type {\n",
       "        vertical-align: middle;\n",
       "    }\n",
       "\n",
       "    .dataframe tbody tr th {\n",
       "        vertical-align: top;\n",
       "    }\n",
       "\n",
       "    .dataframe thead th {\n",
       "        text-align: right;\n",
       "    }\n",
       "</style>\n",
       "<table border=\"1\" class=\"dataframe\">\n",
       "  <thead>\n",
       "    <tr style=\"text-align: right;\">\n",
       "      <th></th>\n",
       "      <th>category_1</th>\n",
       "      <th>category_2</th>\n",
       "      <th>category_3</th>\n",
       "      <th>category_4</th>\n",
       "      <th>category_5</th>\n",
       "      <th>name</th>\n",
       "      <th>description</th>\n",
       "      <th>base_price</th>\n",
       "      <th>start_date</th>\n",
       "      <th>end_date</th>\n",
       "      <th>sale_price</th>\n",
       "      <th>product_id</th>\n",
       "      <th>order_date</th>\n",
       "      <th>order_id</th>\n",
       "      <th>client_id</th>\n",
       "      <th>quantity_purchased</th>\n",
       "      <th>quantity_returned</th>\n",
       "      <th>sales</th>\n",
       "    </tr>\n",
       "  </thead>\n",
       "  <tbody>\n",
       "    <tr>\n",
       "      <th>0</th>\n",
       "      <td>IT + multimédias</td>\n",
       "      <td>Audio</td>\n",
       "      <td>Casque + écouteur</td>\n",
       "      <td>Casque Gaming</td>\n",
       "      <td>NaN</td>\n",
       "      <td>SteelSeries Arctis Nova Pro Wireless</td>\n",
       "      <td>Le SteelSeries Arctis Nova Pro Gaming Headset ...</td>\n",
       "      <td>261.0</td>\n",
       "      <td>2020-01-07</td>\n",
       "      <td>2020-01-22</td>\n",
       "      <td>280.15</td>\n",
       "      <td>0</td>\n",
       "      <td>2020-01-07</td>\n",
       "      <td>O-947zk7117</td>\n",
       "      <td>s6-2652879Z</td>\n",
       "      <td>1</td>\n",
       "      <td>NaN</td>\n",
       "      <td>280.15</td>\n",
       "    </tr>\n",
       "    <tr>\n",
       "      <th>1</th>\n",
       "      <td>IT + multimédias</td>\n",
       "      <td>Audio</td>\n",
       "      <td>Casque + écouteur</td>\n",
       "      <td>Casque Gaming</td>\n",
       "      <td>NaN</td>\n",
       "      <td>SteelSeries Arctis Nova Pro Wireless</td>\n",
       "      <td>Le SteelSeries Arctis Nova Pro Gaming Headset ...</td>\n",
       "      <td>261.0</td>\n",
       "      <td>2020-01-07</td>\n",
       "      <td>2020-01-22</td>\n",
       "      <td>280.15</td>\n",
       "      <td>0</td>\n",
       "      <td>2020-01-07</td>\n",
       "      <td>O-912CK1366</td>\n",
       "      <td>M8-5788593i</td>\n",
       "      <td>1</td>\n",
       "      <td>NaN</td>\n",
       "      <td>280.15</td>\n",
       "    </tr>\n",
       "    <tr>\n",
       "      <th>2</th>\n",
       "      <td>IT + multimédias</td>\n",
       "      <td>Audio</td>\n",
       "      <td>Casque + écouteur</td>\n",
       "      <td>Casque Gaming</td>\n",
       "      <td>NaN</td>\n",
       "      <td>SteelSeries Arctis Nova Pro Wireless</td>\n",
       "      <td>Le SteelSeries Arctis Nova Pro Gaming Headset ...</td>\n",
       "      <td>261.0</td>\n",
       "      <td>2020-01-07</td>\n",
       "      <td>2020-01-22</td>\n",
       "      <td>280.15</td>\n",
       "      <td>0</td>\n",
       "      <td>2020-01-07</td>\n",
       "      <td>O-232NN3278</td>\n",
       "      <td>M6-4063913C</td>\n",
       "      <td>1</td>\n",
       "      <td>1.0</td>\n",
       "      <td>280.15</td>\n",
       "    </tr>\n",
       "    <tr>\n",
       "      <th>3</th>\n",
       "      <td>IT + multimédias</td>\n",
       "      <td>Audio</td>\n",
       "      <td>Casque + écouteur</td>\n",
       "      <td>Casque Gaming</td>\n",
       "      <td>NaN</td>\n",
       "      <td>SteelSeries Arctis Nova Pro Wireless</td>\n",
       "      <td>Le SteelSeries Arctis Nova Pro Gaming Headset ...</td>\n",
       "      <td>261.0</td>\n",
       "      <td>2020-01-07</td>\n",
       "      <td>2020-01-22</td>\n",
       "      <td>280.15</td>\n",
       "      <td>0</td>\n",
       "      <td>2020-01-07</td>\n",
       "      <td>O-571BY4103</td>\n",
       "      <td>M0-880988E</td>\n",
       "      <td>1</td>\n",
       "      <td>NaN</td>\n",
       "      <td>280.15</td>\n",
       "    </tr>\n",
       "    <tr>\n",
       "      <th>4</th>\n",
       "      <td>IT + multimédias</td>\n",
       "      <td>Audio</td>\n",
       "      <td>Casque + écouteur</td>\n",
       "      <td>Casque Gaming</td>\n",
       "      <td>NaN</td>\n",
       "      <td>SteelSeries Arctis Nova Pro Wireless</td>\n",
       "      <td>Le SteelSeries Arctis Nova Pro Gaming Headset ...</td>\n",
       "      <td>261.0</td>\n",
       "      <td>2020-01-07</td>\n",
       "      <td>2020-01-22</td>\n",
       "      <td>280.15</td>\n",
       "      <td>0</td>\n",
       "      <td>2020-01-08</td>\n",
       "      <td>O-275nW5932</td>\n",
       "      <td>S5-0768300P</td>\n",
       "      <td>1</td>\n",
       "      <td>NaN</td>\n",
       "      <td>280.15</td>\n",
       "    </tr>\n",
       "  </tbody>\n",
       "</table>\n",
       "</div>"
      ],
      "text/plain": [
       "         category_1 category_2         category_3     category_4 category_5  \\\n",
       "0  IT + multimédias      Audio  Casque + écouteur  Casque Gaming        NaN   \n",
       "1  IT + multimédias      Audio  Casque + écouteur  Casque Gaming        NaN   \n",
       "2  IT + multimédias      Audio  Casque + écouteur  Casque Gaming        NaN   \n",
       "3  IT + multimédias      Audio  Casque + écouteur  Casque Gaming        NaN   \n",
       "4  IT + multimédias      Audio  Casque + écouteur  Casque Gaming        NaN   \n",
       "\n",
       "                                   name  \\\n",
       "0  SteelSeries Arctis Nova Pro Wireless   \n",
       "1  SteelSeries Arctis Nova Pro Wireless   \n",
       "2  SteelSeries Arctis Nova Pro Wireless   \n",
       "3  SteelSeries Arctis Nova Pro Wireless   \n",
       "4  SteelSeries Arctis Nova Pro Wireless   \n",
       "\n",
       "                                         description  base_price start_date  \\\n",
       "0  Le SteelSeries Arctis Nova Pro Gaming Headset ...       261.0 2020-01-07   \n",
       "1  Le SteelSeries Arctis Nova Pro Gaming Headset ...       261.0 2020-01-07   \n",
       "2  Le SteelSeries Arctis Nova Pro Gaming Headset ...       261.0 2020-01-07   \n",
       "3  Le SteelSeries Arctis Nova Pro Gaming Headset ...       261.0 2020-01-07   \n",
       "4  Le SteelSeries Arctis Nova Pro Gaming Headset ...       261.0 2020-01-07   \n",
       "\n",
       "    end_date  sale_price  product_id order_date     order_id    client_id  \\\n",
       "0 2020-01-22      280.15           0 2020-01-07  O-947zk7117  s6-2652879Z   \n",
       "1 2020-01-22      280.15           0 2020-01-07  O-912CK1366  M8-5788593i   \n",
       "2 2020-01-22      280.15           0 2020-01-07  O-232NN3278  M6-4063913C   \n",
       "3 2020-01-22      280.15           0 2020-01-07  O-571BY4103   M0-880988E   \n",
       "4 2020-01-22      280.15           0 2020-01-08  O-275nW5932  S5-0768300P   \n",
       "\n",
       "   quantity_purchased  quantity_returned   sales  \n",
       "0                   1                NaN  280.15  \n",
       "1                   1                NaN  280.15  \n",
       "2                   1                1.0  280.15  \n",
       "3                   1                NaN  280.15  \n",
       "4                   1                NaN  280.15  "
      ]
     },
     "execution_count": 21,
     "metadata": {},
     "output_type": "execute_result"
    }
   ],
   "source": [
    "products.head()"
   ]
  },
  {
   "cell_type": "code",
   "execution_count": 22,
   "metadata": {},
   "outputs": [
    {
     "data": {
      "text/html": [
       "<div>\n",
       "<style scoped>\n",
       "    .dataframe tbody tr th:only-of-type {\n",
       "        vertical-align: middle;\n",
       "    }\n",
       "\n",
       "    .dataframe tbody tr th {\n",
       "        vertical-align: top;\n",
       "    }\n",
       "\n",
       "    .dataframe thead th {\n",
       "        text-align: right;\n",
       "    }\n",
       "</style>\n",
       "<table border=\"1\" class=\"dataframe\">\n",
       "  <thead>\n",
       "    <tr style=\"text-align: right;\">\n",
       "      <th></th>\n",
       "      <th>category_1</th>\n",
       "      <th>category_2</th>\n",
       "      <th>category_3</th>\n",
       "      <th>category_4</th>\n",
       "      <th>category_5</th>\n",
       "      <th>name</th>\n",
       "      <th>description</th>\n",
       "      <th>base_price</th>\n",
       "      <th>start_date</th>\n",
       "      <th>end_date</th>\n",
       "      <th>sale_price</th>\n",
       "      <th>product_id</th>\n",
       "      <th>order_date</th>\n",
       "      <th>order_id</th>\n",
       "      <th>client_id</th>\n",
       "      <th>quantity_purchased</th>\n",
       "      <th>quantity_returned</th>\n",
       "      <th>sales</th>\n",
       "      <th>margin</th>\n",
       "    </tr>\n",
       "  </thead>\n",
       "  <tbody>\n",
       "    <tr>\n",
       "      <th>0</th>\n",
       "      <td>IT + multimédias</td>\n",
       "      <td>Audio</td>\n",
       "      <td>Casque + écouteur</td>\n",
       "      <td>Casque Gaming</td>\n",
       "      <td>NaN</td>\n",
       "      <td>SteelSeries Arctis Nova Pro Wireless</td>\n",
       "      <td>Le SteelSeries Arctis Nova Pro Gaming Headset ...</td>\n",
       "      <td>261.0</td>\n",
       "      <td>2020-01-07</td>\n",
       "      <td>2020-01-22</td>\n",
       "      <td>280.15</td>\n",
       "      <td>0</td>\n",
       "      <td>2020-01-07</td>\n",
       "      <td>O-947zk7117</td>\n",
       "      <td>s6-2652879Z</td>\n",
       "      <td>1</td>\n",
       "      <td>NaN</td>\n",
       "      <td>280.15</td>\n",
       "      <td>19.15</td>\n",
       "    </tr>\n",
       "    <tr>\n",
       "      <th>1</th>\n",
       "      <td>IT + multimédias</td>\n",
       "      <td>Audio</td>\n",
       "      <td>Casque + écouteur</td>\n",
       "      <td>Casque Gaming</td>\n",
       "      <td>NaN</td>\n",
       "      <td>SteelSeries Arctis Nova Pro Wireless</td>\n",
       "      <td>Le SteelSeries Arctis Nova Pro Gaming Headset ...</td>\n",
       "      <td>261.0</td>\n",
       "      <td>2020-01-07</td>\n",
       "      <td>2020-01-22</td>\n",
       "      <td>280.15</td>\n",
       "      <td>0</td>\n",
       "      <td>2020-01-07</td>\n",
       "      <td>O-912CK1366</td>\n",
       "      <td>M8-5788593i</td>\n",
       "      <td>1</td>\n",
       "      <td>NaN</td>\n",
       "      <td>280.15</td>\n",
       "      <td>19.15</td>\n",
       "    </tr>\n",
       "    <tr>\n",
       "      <th>2</th>\n",
       "      <td>IT + multimédias</td>\n",
       "      <td>Audio</td>\n",
       "      <td>Casque + écouteur</td>\n",
       "      <td>Casque Gaming</td>\n",
       "      <td>NaN</td>\n",
       "      <td>SteelSeries Arctis Nova Pro Wireless</td>\n",
       "      <td>Le SteelSeries Arctis Nova Pro Gaming Headset ...</td>\n",
       "      <td>261.0</td>\n",
       "      <td>2020-01-07</td>\n",
       "      <td>2020-01-22</td>\n",
       "      <td>280.15</td>\n",
       "      <td>0</td>\n",
       "      <td>2020-01-07</td>\n",
       "      <td>O-232NN3278</td>\n",
       "      <td>M6-4063913C</td>\n",
       "      <td>1</td>\n",
       "      <td>1.0</td>\n",
       "      <td>280.15</td>\n",
       "      <td>19.15</td>\n",
       "    </tr>\n",
       "    <tr>\n",
       "      <th>3</th>\n",
       "      <td>IT + multimédias</td>\n",
       "      <td>Audio</td>\n",
       "      <td>Casque + écouteur</td>\n",
       "      <td>Casque Gaming</td>\n",
       "      <td>NaN</td>\n",
       "      <td>SteelSeries Arctis Nova Pro Wireless</td>\n",
       "      <td>Le SteelSeries Arctis Nova Pro Gaming Headset ...</td>\n",
       "      <td>261.0</td>\n",
       "      <td>2020-01-07</td>\n",
       "      <td>2020-01-22</td>\n",
       "      <td>280.15</td>\n",
       "      <td>0</td>\n",
       "      <td>2020-01-07</td>\n",
       "      <td>O-571BY4103</td>\n",
       "      <td>M0-880988E</td>\n",
       "      <td>1</td>\n",
       "      <td>NaN</td>\n",
       "      <td>280.15</td>\n",
       "      <td>19.15</td>\n",
       "    </tr>\n",
       "    <tr>\n",
       "      <th>4</th>\n",
       "      <td>IT + multimédias</td>\n",
       "      <td>Audio</td>\n",
       "      <td>Casque + écouteur</td>\n",
       "      <td>Casque Gaming</td>\n",
       "      <td>NaN</td>\n",
       "      <td>SteelSeries Arctis Nova Pro Wireless</td>\n",
       "      <td>Le SteelSeries Arctis Nova Pro Gaming Headset ...</td>\n",
       "      <td>261.0</td>\n",
       "      <td>2020-01-07</td>\n",
       "      <td>2020-01-22</td>\n",
       "      <td>280.15</td>\n",
       "      <td>0</td>\n",
       "      <td>2020-01-08</td>\n",
       "      <td>O-275nW5932</td>\n",
       "      <td>S5-0768300P</td>\n",
       "      <td>1</td>\n",
       "      <td>NaN</td>\n",
       "      <td>280.15</td>\n",
       "      <td>19.15</td>\n",
       "    </tr>\n",
       "  </tbody>\n",
       "</table>\n",
       "</div>"
      ],
      "text/plain": [
       "         category_1 category_2         category_3     category_4 category_5  \\\n",
       "0  IT + multimédias      Audio  Casque + écouteur  Casque Gaming        NaN   \n",
       "1  IT + multimédias      Audio  Casque + écouteur  Casque Gaming        NaN   \n",
       "2  IT + multimédias      Audio  Casque + écouteur  Casque Gaming        NaN   \n",
       "3  IT + multimédias      Audio  Casque + écouteur  Casque Gaming        NaN   \n",
       "4  IT + multimédias      Audio  Casque + écouteur  Casque Gaming        NaN   \n",
       "\n",
       "                                   name  \\\n",
       "0  SteelSeries Arctis Nova Pro Wireless   \n",
       "1  SteelSeries Arctis Nova Pro Wireless   \n",
       "2  SteelSeries Arctis Nova Pro Wireless   \n",
       "3  SteelSeries Arctis Nova Pro Wireless   \n",
       "4  SteelSeries Arctis Nova Pro Wireless   \n",
       "\n",
       "                                         description  base_price start_date  \\\n",
       "0  Le SteelSeries Arctis Nova Pro Gaming Headset ...       261.0 2020-01-07   \n",
       "1  Le SteelSeries Arctis Nova Pro Gaming Headset ...       261.0 2020-01-07   \n",
       "2  Le SteelSeries Arctis Nova Pro Gaming Headset ...       261.0 2020-01-07   \n",
       "3  Le SteelSeries Arctis Nova Pro Gaming Headset ...       261.0 2020-01-07   \n",
       "4  Le SteelSeries Arctis Nova Pro Gaming Headset ...       261.0 2020-01-07   \n",
       "\n",
       "    end_date  sale_price  product_id order_date     order_id    client_id  \\\n",
       "0 2020-01-22      280.15           0 2020-01-07  O-947zk7117  s6-2652879Z   \n",
       "1 2020-01-22      280.15           0 2020-01-07  O-912CK1366  M8-5788593i   \n",
       "2 2020-01-22      280.15           0 2020-01-07  O-232NN3278  M6-4063913C   \n",
       "3 2020-01-22      280.15           0 2020-01-07  O-571BY4103   M0-880988E   \n",
       "4 2020-01-22      280.15           0 2020-01-08  O-275nW5932  S5-0768300P   \n",
       "\n",
       "   quantity_purchased  quantity_returned   sales  margin  \n",
       "0                   1                NaN  280.15   19.15  \n",
       "1                   1                NaN  280.15   19.15  \n",
       "2                   1                1.0  280.15   19.15  \n",
       "3                   1                NaN  280.15   19.15  \n",
       "4                   1                NaN  280.15   19.15  "
      ]
     },
     "execution_count": 22,
     "metadata": {},
     "output_type": "execute_result"
    }
   ],
   "source": [
    "products['margin'] = (products['sale_price'] - products['base_price']) * products['quantity_purchased']\n",
    "products.head()"
   ]
  },
  {
   "cell_type": "code",
   "execution_count": 23,
   "metadata": {},
   "outputs": [
    {
     "name": "stderr",
     "output_type": "stream",
     "text": [
      "/tmp/ipykernel_24229/4257643124.py:1: FutureWarning: A value is trying to be set on a copy of a DataFrame or Series through chained assignment using an inplace method.\n",
      "The behavior will change in pandas 3.0. This inplace method will never work because the intermediate object on which we are setting values always behaves as a copy.\n",
      "\n",
      "For example, when doing 'df[col].method(value, inplace=True)', try using 'df.method({col: value}, inplace=True)' or df[col] = df[col].method(value) instead, to perform the operation inplace on the original object.\n",
      "\n",
      "\n",
      "  products['quantity_returned'].fillna(0, inplace = True)\n"
     ]
    },
    {
     "data": {
      "text/plain": [
       "(274085, 20)"
      ]
     },
     "execution_count": 23,
     "metadata": {},
     "output_type": "execute_result"
    }
   ],
   "source": [
    "products['quantity_returned'].fillna(0, inplace = True)\n",
    "products['revenue'] = products['sale_price'] * (products['quantity_purchased'] - products['quantity_returned'])\n",
    "products.shape"
   ]
  },
  {
   "cell_type": "code",
   "execution_count": 25,
   "metadata": {},
   "outputs": [
    {
     "data": {
      "text/plain": [
       "214.4185553021873"
      ]
     },
     "execution_count": 25,
     "metadata": {},
     "output_type": "execute_result"
    }
   ],
   "source": [
    "products.sales.sum()/products.shape[0]"
   ]
  },
  {
   "cell_type": "code",
   "execution_count": 26,
   "metadata": {},
   "outputs": [
    {
     "data": {
      "text/html": [
       "<div>\n",
       "<style scoped>\n",
       "    .dataframe tbody tr th:only-of-type {\n",
       "        vertical-align: middle;\n",
       "    }\n",
       "\n",
       "    .dataframe tbody tr th {\n",
       "        vertical-align: top;\n",
       "    }\n",
       "\n",
       "    .dataframe thead th {\n",
       "        text-align: right;\n",
       "    }\n",
       "</style>\n",
       "<table border=\"1\" class=\"dataframe\">\n",
       "  <thead>\n",
       "    <tr style=\"text-align: right;\">\n",
       "      <th></th>\n",
       "      <th>category_1</th>\n",
       "      <th>category_2</th>\n",
       "      <th>category_3</th>\n",
       "      <th>category_4</th>\n",
       "      <th>category_5</th>\n",
       "      <th>name</th>\n",
       "      <th>description</th>\n",
       "      <th>base_price</th>\n",
       "      <th>start_date</th>\n",
       "      <th>end_date</th>\n",
       "      <th>...</th>\n",
       "      <th>product_id</th>\n",
       "      <th>order_date</th>\n",
       "      <th>order_id</th>\n",
       "      <th>client_id</th>\n",
       "      <th>quantity_purchased</th>\n",
       "      <th>quantity_returned</th>\n",
       "      <th>sales</th>\n",
       "      <th>margin</th>\n",
       "      <th>revenue</th>\n",
       "      <th>net_profit</th>\n",
       "    </tr>\n",
       "  </thead>\n",
       "  <tbody>\n",
       "    <tr>\n",
       "      <th>0</th>\n",
       "      <td>IT + multimédias</td>\n",
       "      <td>Audio</td>\n",
       "      <td>Casque + écouteur</td>\n",
       "      <td>Casque Gaming</td>\n",
       "      <td>NaN</td>\n",
       "      <td>SteelSeries Arctis Nova Pro Wireless</td>\n",
       "      <td>Le SteelSeries Arctis Nova Pro Gaming Headset ...</td>\n",
       "      <td>261.0</td>\n",
       "      <td>2020-01-07</td>\n",
       "      <td>2020-01-22</td>\n",
       "      <td>...</td>\n",
       "      <td>0</td>\n",
       "      <td>2020-01-07</td>\n",
       "      <td>O-947zk7117</td>\n",
       "      <td>s6-2652879Z</td>\n",
       "      <td>1</td>\n",
       "      <td>0.0</td>\n",
       "      <td>280.15</td>\n",
       "      <td>19.15</td>\n",
       "      <td>280.15</td>\n",
       "      <td>19.15</td>\n",
       "    </tr>\n",
       "    <tr>\n",
       "      <th>1</th>\n",
       "      <td>IT + multimédias</td>\n",
       "      <td>Audio</td>\n",
       "      <td>Casque + écouteur</td>\n",
       "      <td>Casque Gaming</td>\n",
       "      <td>NaN</td>\n",
       "      <td>SteelSeries Arctis Nova Pro Wireless</td>\n",
       "      <td>Le SteelSeries Arctis Nova Pro Gaming Headset ...</td>\n",
       "      <td>261.0</td>\n",
       "      <td>2020-01-07</td>\n",
       "      <td>2020-01-22</td>\n",
       "      <td>...</td>\n",
       "      <td>0</td>\n",
       "      <td>2020-01-07</td>\n",
       "      <td>O-912CK1366</td>\n",
       "      <td>M8-5788593i</td>\n",
       "      <td>1</td>\n",
       "      <td>0.0</td>\n",
       "      <td>280.15</td>\n",
       "      <td>19.15</td>\n",
       "      <td>280.15</td>\n",
       "      <td>19.15</td>\n",
       "    </tr>\n",
       "    <tr>\n",
       "      <th>2</th>\n",
       "      <td>IT + multimédias</td>\n",
       "      <td>Audio</td>\n",
       "      <td>Casque + écouteur</td>\n",
       "      <td>Casque Gaming</td>\n",
       "      <td>NaN</td>\n",
       "      <td>SteelSeries Arctis Nova Pro Wireless</td>\n",
       "      <td>Le SteelSeries Arctis Nova Pro Gaming Headset ...</td>\n",
       "      <td>261.0</td>\n",
       "      <td>2020-01-07</td>\n",
       "      <td>2020-01-22</td>\n",
       "      <td>...</td>\n",
       "      <td>0</td>\n",
       "      <td>2020-01-07</td>\n",
       "      <td>O-232NN3278</td>\n",
       "      <td>M6-4063913C</td>\n",
       "      <td>1</td>\n",
       "      <td>1.0</td>\n",
       "      <td>280.15</td>\n",
       "      <td>19.15</td>\n",
       "      <td>0.00</td>\n",
       "      <td>0.00</td>\n",
       "    </tr>\n",
       "    <tr>\n",
       "      <th>3</th>\n",
       "      <td>IT + multimédias</td>\n",
       "      <td>Audio</td>\n",
       "      <td>Casque + écouteur</td>\n",
       "      <td>Casque Gaming</td>\n",
       "      <td>NaN</td>\n",
       "      <td>SteelSeries Arctis Nova Pro Wireless</td>\n",
       "      <td>Le SteelSeries Arctis Nova Pro Gaming Headset ...</td>\n",
       "      <td>261.0</td>\n",
       "      <td>2020-01-07</td>\n",
       "      <td>2020-01-22</td>\n",
       "      <td>...</td>\n",
       "      <td>0</td>\n",
       "      <td>2020-01-07</td>\n",
       "      <td>O-571BY4103</td>\n",
       "      <td>M0-880988E</td>\n",
       "      <td>1</td>\n",
       "      <td>0.0</td>\n",
       "      <td>280.15</td>\n",
       "      <td>19.15</td>\n",
       "      <td>280.15</td>\n",
       "      <td>19.15</td>\n",
       "    </tr>\n",
       "    <tr>\n",
       "      <th>4</th>\n",
       "      <td>IT + multimédias</td>\n",
       "      <td>Audio</td>\n",
       "      <td>Casque + écouteur</td>\n",
       "      <td>Casque Gaming</td>\n",
       "      <td>NaN</td>\n",
       "      <td>SteelSeries Arctis Nova Pro Wireless</td>\n",
       "      <td>Le SteelSeries Arctis Nova Pro Gaming Headset ...</td>\n",
       "      <td>261.0</td>\n",
       "      <td>2020-01-07</td>\n",
       "      <td>2020-01-22</td>\n",
       "      <td>...</td>\n",
       "      <td>0</td>\n",
       "      <td>2020-01-08</td>\n",
       "      <td>O-275nW5932</td>\n",
       "      <td>S5-0768300P</td>\n",
       "      <td>1</td>\n",
       "      <td>0.0</td>\n",
       "      <td>280.15</td>\n",
       "      <td>19.15</td>\n",
       "      <td>280.15</td>\n",
       "      <td>19.15</td>\n",
       "    </tr>\n",
       "  </tbody>\n",
       "</table>\n",
       "<p>5 rows × 21 columns</p>\n",
       "</div>"
      ],
      "text/plain": [
       "         category_1 category_2         category_3     category_4 category_5  \\\n",
       "0  IT + multimédias      Audio  Casque + écouteur  Casque Gaming        NaN   \n",
       "1  IT + multimédias      Audio  Casque + écouteur  Casque Gaming        NaN   \n",
       "2  IT + multimédias      Audio  Casque + écouteur  Casque Gaming        NaN   \n",
       "3  IT + multimédias      Audio  Casque + écouteur  Casque Gaming        NaN   \n",
       "4  IT + multimédias      Audio  Casque + écouteur  Casque Gaming        NaN   \n",
       "\n",
       "                                   name  \\\n",
       "0  SteelSeries Arctis Nova Pro Wireless   \n",
       "1  SteelSeries Arctis Nova Pro Wireless   \n",
       "2  SteelSeries Arctis Nova Pro Wireless   \n",
       "3  SteelSeries Arctis Nova Pro Wireless   \n",
       "4  SteelSeries Arctis Nova Pro Wireless   \n",
       "\n",
       "                                         description  base_price start_date  \\\n",
       "0  Le SteelSeries Arctis Nova Pro Gaming Headset ...       261.0 2020-01-07   \n",
       "1  Le SteelSeries Arctis Nova Pro Gaming Headset ...       261.0 2020-01-07   \n",
       "2  Le SteelSeries Arctis Nova Pro Gaming Headset ...       261.0 2020-01-07   \n",
       "3  Le SteelSeries Arctis Nova Pro Gaming Headset ...       261.0 2020-01-07   \n",
       "4  Le SteelSeries Arctis Nova Pro Gaming Headset ...       261.0 2020-01-07   \n",
       "\n",
       "    end_date  ...  product_id  order_date     order_id    client_id  \\\n",
       "0 2020-01-22  ...           0  2020-01-07  O-947zk7117  s6-2652879Z   \n",
       "1 2020-01-22  ...           0  2020-01-07  O-912CK1366  M8-5788593i   \n",
       "2 2020-01-22  ...           0  2020-01-07  O-232NN3278  M6-4063913C   \n",
       "3 2020-01-22  ...           0  2020-01-07  O-571BY4103   M0-880988E   \n",
       "4 2020-01-22  ...           0  2020-01-08  O-275nW5932  S5-0768300P   \n",
       "\n",
       "  quantity_purchased  quantity_returned   sales  margin  revenue  net_profit  \n",
       "0                  1                0.0  280.15   19.15   280.15       19.15  \n",
       "1                  1                0.0  280.15   19.15   280.15       19.15  \n",
       "2                  1                1.0  280.15   19.15     0.00        0.00  \n",
       "3                  1                0.0  280.15   19.15   280.15       19.15  \n",
       "4                  1                0.0  280.15   19.15   280.15       19.15  \n",
       "\n",
       "[5 rows x 21 columns]"
      ]
     },
     "execution_count": 26,
     "metadata": {},
     "output_type": "execute_result"
    }
   ],
   "source": [
    "products['net_profit'] = (products['sale_price'] - products['base_price']) * (products['quantity_purchased'] - products['quantity_returned'])\n",
    "products.head()"
   ]
  },
  {
   "cell_type": "code",
   "execution_count": 27,
   "metadata": {},
   "outputs": [
    {
     "name": "stderr",
     "output_type": "stream",
     "text": [
      "/tmp/ipykernel_24229/1055733875.py:2: FutureWarning: A value is trying to be set on a copy of a DataFrame or Series through chained assignment using an inplace method.\n",
      "The behavior will change in pandas 3.0. This inplace method will never work because the intermediate object on which we are setting values always behaves as a copy.\n",
      "\n",
      "For example, when doing 'df[col].method(value, inplace=True)', try using 'df.method({col: value}, inplace=True)' or df[col] = df[col].method(value) instead, to perform the operation inplace on the original object.\n",
      "\n",
      "\n",
      "  products['profit_ratio'].fillna(0, inplace= True)\n"
     ]
    }
   ],
   "source": [
    "products['profit_ratio'] = products['net_profit']/products['revenue']\n",
    "products['profit_ratio'].fillna(0, inplace= True)"
   ]
  },
  {
   "cell_type": "code",
   "execution_count": 28,
   "metadata": {},
   "outputs": [
    {
     "data": {
      "text/plain": [
       "50815787.68"
      ]
     },
     "execution_count": 28,
     "metadata": {},
     "output_type": "execute_result"
    }
   ],
   "source": [
    "products.revenue.sum()"
   ]
  },
  {
   "cell_type": "markdown",
   "metadata": {},
   "source": [
    "# point 1"
   ]
  },
  {
   "cell_type": "code",
   "execution_count": 32,
   "metadata": {},
   "outputs": [],
   "source": [
    "product_revenue = products.groupby(['product_id', 'name'], as_index= False)['revenue'].sum()\n",
    "product_revenue = product_revenue.sort_values('revenue')"
   ]
  },
  {
   "cell_type": "code",
   "execution_count": 34,
   "metadata": {},
   "outputs": [
    {
     "name": "stdout",
     "output_type": "stream",
     "text": [
      "worst 3 products\n"
     ]
    },
    {
     "data": {
      "text/html": [
       "<div>\n",
       "<style scoped>\n",
       "    .dataframe tbody tr th:only-of-type {\n",
       "        vertical-align: middle;\n",
       "    }\n",
       "\n",
       "    .dataframe tbody tr th {\n",
       "        vertical-align: top;\n",
       "    }\n",
       "\n",
       "    .dataframe thead th {\n",
       "        text-align: right;\n",
       "    }\n",
       "</style>\n",
       "<table border=\"1\" class=\"dataframe\">\n",
       "  <thead>\n",
       "    <tr style=\"text-align: right;\">\n",
       "      <th></th>\n",
       "      <th>product_id</th>\n",
       "      <th>name</th>\n",
       "      <th>revenue</th>\n",
       "    </tr>\n",
       "  </thead>\n",
       "  <tbody>\n",
       "    <tr>\n",
       "      <th>102</th>\n",
       "      <td>102</td>\n",
       "      <td>PowerFood One Shot de pré-entraînement (60ml)\\...</td>\n",
       "      <td>11053.03</td>\n",
       "    </tr>\n",
       "    <tr>\n",
       "      <th>101</th>\n",
       "      <td>101</td>\n",
       "      <td>Energy OatSnack (65g)</td>\n",
       "      <td>12666.34</td>\n",
       "    </tr>\n",
       "    <tr>\n",
       "      <th>46</th>\n",
       "      <td>46</td>\n",
       "      <td>Sac à compost, 9 l</td>\n",
       "      <td>19357.39</td>\n",
       "    </tr>\n",
       "  </tbody>\n",
       "</table>\n",
       "</div>"
      ],
      "text/plain": [
       "     product_id                                               name   revenue\n",
       "102         102  PowerFood One Shot de pré-entraînement (60ml)\\...  11053.03\n",
       "101         101                              Energy OatSnack (65g)  12666.34\n",
       "46           46                                 Sac à compost, 9 l  19357.39"
      ]
     },
     "metadata": {},
     "output_type": "display_data"
    }
   ],
   "source": [
    "print('worst 3 products')\n",
    "display(product_revenue.head(3))"
   ]
  },
  {
   "cell_type": "code",
   "execution_count": 35,
   "metadata": {},
   "outputs": [
    {
     "name": "stdout",
     "output_type": "stream",
     "text": [
      "top 3 producst\n"
     ]
    },
    {
     "data": {
      "text/html": [
       "<div>\n",
       "<style scoped>\n",
       "    .dataframe tbody tr th:only-of-type {\n",
       "        vertical-align: middle;\n",
       "    }\n",
       "\n",
       "    .dataframe tbody tr th {\n",
       "        vertical-align: top;\n",
       "    }\n",
       "\n",
       "    .dataframe thead th {\n",
       "        text-align: right;\n",
       "    }\n",
       "</style>\n",
       "<table border=\"1\" class=\"dataframe\">\n",
       "  <thead>\n",
       "    <tr style=\"text-align: right;\">\n",
       "      <th></th>\n",
       "      <th>product_id</th>\n",
       "      <th>name</th>\n",
       "      <th>revenue</th>\n",
       "    </tr>\n",
       "  </thead>\n",
       "  <tbody>\n",
       "    <tr>\n",
       "      <th>18</th>\n",
       "      <td>18</td>\n",
       "      <td>Apple iPhone 14 Pro, 1000 Go, Silver, 6.10\", S...</td>\n",
       "      <td>1319128.96</td>\n",
       "    </tr>\n",
       "    <tr>\n",
       "      <th>19</th>\n",
       "      <td>19</td>\n",
       "      <td>LG OLED77C27LA, 4K, OLED, 2022, 77\"</td>\n",
       "      <td>1500237.68</td>\n",
       "    </tr>\n",
       "    <tr>\n",
       "      <th>22</th>\n",
       "      <td>22</td>\n",
       "      <td>Samsung QE85Q60BA, 4K, QLED, 2022, 85\"</td>\n",
       "      <td>1508888.39</td>\n",
       "    </tr>\n",
       "  </tbody>\n",
       "</table>\n",
       "</div>"
      ],
      "text/plain": [
       "    product_id                                               name     revenue\n",
       "18          18  Apple iPhone 14 Pro, 1000 Go, Silver, 6.10\", S...  1319128.96\n",
       "19          19                LG OLED77C27LA, 4K, OLED, 2022, 77\"  1500237.68\n",
       "22          22             Samsung QE85Q60BA, 4K, QLED, 2022, 85\"  1508888.39"
      ]
     },
     "metadata": {},
     "output_type": "display_data"
    }
   ],
   "source": [
    "print('top 3 producst')\n",
    "display(product_revenue.tail(3))"
   ]
  },
  {
   "cell_type": "code",
   "execution_count": 36,
   "metadata": {},
   "outputs": [
    {
     "data": {
      "image/png": "[encoded data removed]",
      "text/plain": [
       "<Figure size 1000x700 with 1 Axes>"
      ]
     },
     "metadata": {},
     "output_type": "display_data"
    }
   ],
   "source": [
    "# Calculate top 3 and bottom 3 products based on revenue\n",
    "top_products = product_revenue.nlargest(3, 'revenue')\n",
    "bottom_products = product_revenue.nsmallest(3, 'revenue')\n",
    "\n",
    "# Calculate total revenues\n",
    "total_top_revenue = top_products['revenue'].sum()\n",
    "total_bottom_revenue = bottom_products['revenue'].sum()\n",
    "total_other_revenue = product_revenue['revenue'].sum() - total_top_revenue - total_bottom_revenue\n",
    "\n",
    "# Prepare data for the pie chart\n",
    "labels = ['Top 3 Products', 'Bottom 3 Products', 'Others']\n",
    "sizes = [total_top_revenue, total_bottom_revenue, total_other_revenue]\n",
    "colors = ['lightgreen', 'lightcoral', 'lightgrey']\n",
    "\n",
    "# Create the pie chart\n",
    "plt.figure(figsize=(10, 7))\n",
    "plt.pie(sizes, labels=labels, colors=colors, startangle=140, autopct='%1.1f%%')\n",
    "plt.title(f'Total Revenue Distribution (sum={round(product_revenue['revenue'].sum(), 2)})')\n",
    "plt.axis('equal')  # Equal aspect ratio ensures that pie is drawn as a circle.\n",
    "plt.show()"
   ]
  },
  {
   "cell_type": "markdown",
   "metadata": {},
   "source": [
    "# point 2"
   ]
  },
  {
   "cell_type": "code",
   "execution_count": null,
   "metadata": {},
   "outputs": [
    {
     "data": {
      "text/html": [
       "<div>\n",
       "<style scoped>\n",
       "    .dataframe tbody tr th:only-of-type {\n",
       "        vertical-align: middle;\n",
       "    }\n",
       "\n",
       "    .dataframe tbody tr th {\n",
       "        vertical-align: top;\n",
       "    }\n",
       "\n",
       "    .dataframe thead th {\n",
       "        text-align: right;\n",
       "    }\n",
       "</style>\n",
       "<table border=\"1\" class=\"dataframe\">\n",
       "  <thead>\n",
       "    <tr style=\"text-align: right;\">\n",
       "      <th></th>\n",
       "      <th>category_1</th>\n",
       "      <th>net_profit</th>\n",
       "      <th>revenue</th>\n",
       "    </tr>\n",
       "  </thead>\n",
       "  <tbody>\n",
       "    <tr>\n",
       "      <th>5</th>\n",
       "      <td>IT + multimédias</td>\n",
       "      <td>2414656.91</td>\n",
       "      <td>24568238.36</td>\n",
       "    </tr>\n",
       "  </tbody>\n",
       "</table>\n",
       "</div>"
      ],
      "text/plain": [
       "         category_1  net_profit      revenue\n",
       "5  IT + multimédias  2414656.91  24568238.36"
      ]
     },
     "execution_count": 41,
     "metadata": {},
     "output_type": "execute_result"
    }
   ],
   "source": [
    "product_2 = products.groupby(['category_1'], as_index = False)[['net_profit', 'revenue']].sum()"
   ]
  },
  {
   "cell_type": "code",
   "execution_count": 61,
   "metadata": {},
   "outputs": [
    {
     "data": {
      "text/html": [
       "<div>\n",
       "<style scoped>\n",
       "    .dataframe tbody tr th:only-of-type {\n",
       "        vertical-align: middle;\n",
       "    }\n",
       "\n",
       "    .dataframe tbody tr th {\n",
       "        vertical-align: top;\n",
       "    }\n",
       "\n",
       "    .dataframe thead th {\n",
       "        text-align: right;\n",
       "    }\n",
       "</style>\n",
       "<table border=\"1\" class=\"dataframe\">\n",
       "  <thead>\n",
       "    <tr style=\"text-align: right;\">\n",
       "      <th></th>\n",
       "      <th>category_1</th>\n",
       "      <th>net_profit</th>\n",
       "      <th>revenue</th>\n",
       "    </tr>\n",
       "  </thead>\n",
       "  <tbody>\n",
       "    <tr>\n",
       "      <th>5</th>\n",
       "      <td>IT + multimédias</td>\n",
       "      <td>2414656.91</td>\n",
       "      <td>24568238.36</td>\n",
       "    </tr>\n",
       "  </tbody>\n",
       "</table>\n",
       "</div>"
      ],
      "text/plain": [
       "         category_1  net_profit      revenue\n",
       "5  IT + multimédias  2414656.91  24568238.36"
      ]
     },
     "execution_count": 61,
     "metadata": {},
     "output_type": "execute_result"
    }
   ],
   "source": [
    "product_2.sort_values(by = 'net_profit').tail(1)"
   ]
  },
  {
   "cell_type": "code",
   "execution_count": 42,
   "metadata": {},
   "outputs": [
    {
     "data": {
      "text/html": [
       "<div>\n",
       "<style scoped>\n",
       "    .dataframe tbody tr th:only-of-type {\n",
       "        vertical-align: middle;\n",
       "    }\n",
       "\n",
       "    .dataframe tbody tr th {\n",
       "        vertical-align: top;\n",
       "    }\n",
       "\n",
       "    .dataframe thead th {\n",
       "        text-align: right;\n",
       "    }\n",
       "</style>\n",
       "<table border=\"1\" class=\"dataframe\">\n",
       "  <thead>\n",
       "    <tr style=\"text-align: right;\">\n",
       "      <th></th>\n",
       "      <th>category_1</th>\n",
       "      <th>net_profit</th>\n",
       "      <th>revenue</th>\n",
       "    </tr>\n",
       "  </thead>\n",
       "  <tbody>\n",
       "    <tr>\n",
       "      <th>5</th>\n",
       "      <td>IT + multimédias</td>\n",
       "      <td>2414656.91</td>\n",
       "      <td>24568238.36</td>\n",
       "    </tr>\n",
       "  </tbody>\n",
       "</table>\n",
       "</div>"
      ],
      "text/plain": [
       "         category_1  net_profit      revenue\n",
       "5  IT + multimédias  2414656.91  24568238.36"
      ]
     },
     "execution_count": 42,
     "metadata": {},
     "output_type": "execute_result"
    }
   ],
   "source": [
    "product_2.sort_values(by = 'revenue').tail(1)"
   ]
  },
  {
   "cell_type": "code",
   "execution_count": 43,
   "metadata": {},
   "outputs": [
    {
     "name": "stdout",
     "output_type": "stream",
     "text": [
      "Category with the highest net profit:\n",
      "IT + multimédias\n"
     ]
    }
   ],
   "source": [
    "best_category = product_2.sort_values(by='net_profit').tail(1)['category_1'].values[0]\n",
    "print(\"Category with the highest net profit:\")\n",
    "print(best_category)"
   ]
  },
  {
   "cell_type": "code",
   "execution_count": 44,
   "metadata": {},
   "outputs": [
    {
     "data": {
      "image/png": "[encoded data removed]",
      "text/plain": [
       "<Figure size 1000x700 with 1 Axes>"
      ]
     },
     "metadata": {},
     "output_type": "display_data"
    }
   ],
   "source": [
    "# Calculate top 3 and bottom 3 products based on revenue\n",
    "top_products = product_2.nlargest(1, 'net_profit')\n",
    "\n",
    "# Calculate total revenues\n",
    "total_top_cat = top_products['net_profit'].sum()\n",
    "total_other_cat = product_2['net_profit'].sum() - total_top_cat\n",
    "\n",
    "# Prepare data for the pie chart\n",
    "labels = [best_category, 'Others']\n",
    "sizes = [total_top_cat, total_other_cat]\n",
    "colors = ['lightgreen', 'lightgrey']\n",
    "\n",
    "# Create the pie chart\n",
    "plt.figure(figsize=(10, 7))\n",
    "plt.pie(sizes, labels=labels, colors=colors, startangle=140, autopct='%1.1f%%')\n",
    "plt.title(f'Total Net Profit Distribution(sum={round(product_2['net_profit'].sum(), 2)})')\n",
    "plt.axis('equal')  # Equal aspect ratio ensures that pie is drawn as a circle.\n",
    "plt.show()"
   ]
  },
  {
   "cell_type": "code",
   "execution_count": 45,
   "metadata": {},
   "outputs": [
    {
     "data": {
      "image/png": "[encoded data removed]",
      "text/plain": [
       "<Figure size 1000x700 with 1 Axes>"
      ]
     },
     "metadata": {},
     "output_type": "display_data"
    }
   ],
   "source": [
    "# Calculate top 3 and bottom 3 products based on revenue\n",
    "top_products = product_2.nlargest(1, 'revenue')\n",
    "\n",
    "# Calculate total revenues\n",
    "total_top_cat = top_products['revenue'].sum()\n",
    "total_other_cat = product_2['revenue'].sum() - total_top_cat\n",
    "\n",
    "# Prepare data for the pie chart\n",
    "labels = [best_category, 'Others']\n",
    "sizes = [total_top_cat, total_other_cat]\n",
    "colors = ['lightgreen', 'lightgrey']\n",
    "\n",
    "# Create the pie chart\n",
    "plt.figure(figsize=(10, 7))\n",
    "plt.pie(sizes, labels=labels, colors=colors, startangle=140, autopct='%1.1f%%')\n",
    "plt.title(f'Total Revenue Distribution (sum={product_2['revenue'].sum()})')\n",
    "plt.axis('equal')  # Equal aspect ratio ensures that pie is drawn as a circle.\n",
    "plt.show()"
   ]
  },
  {
   "cell_type": "markdown",
   "metadata": {},
   "source": [
    "# point 3"
   ]
  },
  {
   "cell_type": "code",
   "execution_count": 46,
   "metadata": {},
   "outputs": [],
   "source": [
    "product_3 = products[products['category_1']== best_category]"
   ]
  },
  {
   "cell_type": "code",
   "execution_count": 47,
   "metadata": {},
   "outputs": [],
   "source": [
    "product_3_revenue = product_3.groupby(['product_id', 'name'], as_index = False)['net_profit'].sum()\n",
    "product_3_revenue = product_3_revenue.sort_values('net_profit')"
   ]
  },
  {
   "cell_type": "code",
   "execution_count": 48,
   "metadata": {},
   "outputs": [
    {
     "data": {
      "text/html": [
       "<div>\n",
       "<style scoped>\n",
       "    .dataframe tbody tr th:only-of-type {\n",
       "        vertical-align: middle;\n",
       "    }\n",
       "\n",
       "    .dataframe tbody tr th {\n",
       "        vertical-align: top;\n",
       "    }\n",
       "\n",
       "    .dataframe thead th {\n",
       "        text-align: right;\n",
       "    }\n",
       "</style>\n",
       "<table border=\"1\" class=\"dataframe\">\n",
       "  <thead>\n",
       "    <tr style=\"text-align: right;\">\n",
       "      <th></th>\n",
       "      <th>product_id</th>\n",
       "      <th>name</th>\n",
       "      <th>net_profit</th>\n",
       "    </tr>\n",
       "  </thead>\n",
       "  <tbody>\n",
       "    <tr>\n",
       "      <th>7</th>\n",
       "      <td>7</td>\n",
       "      <td>SanDisk Extreme PRO microSDXC, 64 Gb</td>\n",
       "      <td>758.12</td>\n",
       "    </tr>\n",
       "  </tbody>\n",
       "</table>\n",
       "</div>"
      ],
      "text/plain": [
       "   product_id                                  name  net_profit\n",
       "7           7  SanDisk Extreme PRO microSDXC, 64 Gb      758.12"
      ]
     },
     "execution_count": 48,
     "metadata": {},
     "output_type": "execute_result"
    }
   ],
   "source": [
    "product_3_revenue.head(1)"
   ]
  },
  {
   "cell_type": "code",
   "execution_count": 49,
   "metadata": {},
   "outputs": [
    {
     "data": {
      "text/html": [
       "<div>\n",
       "<style scoped>\n",
       "    .dataframe tbody tr th:only-of-type {\n",
       "        vertical-align: middle;\n",
       "    }\n",
       "\n",
       "    .dataframe tbody tr th {\n",
       "        vertical-align: top;\n",
       "    }\n",
       "\n",
       "    .dataframe thead th {\n",
       "        text-align: right;\n",
       "    }\n",
       "</style>\n",
       "<table border=\"1\" class=\"dataframe\">\n",
       "  <thead>\n",
       "    <tr style=\"text-align: right;\">\n",
       "      <th></th>\n",
       "      <th>product_id</th>\n",
       "      <th>name</th>\n",
       "      <th>net_profit</th>\n",
       "    </tr>\n",
       "  </thead>\n",
       "  <tbody>\n",
       "    <tr>\n",
       "      <th>9</th>\n",
       "      <td>9</td>\n",
       "      <td>HP ProBook 450 G9</td>\n",
       "      <td>168718.05</td>\n",
       "    </tr>\n",
       "  </tbody>\n",
       "</table>\n",
       "</div>"
      ],
      "text/plain": [
       "   product_id               name  net_profit\n",
       "9           9  HP ProBook 450 G9   168718.05"
      ]
     },
     "execution_count": 49,
     "metadata": {},
     "output_type": "execute_result"
    }
   ],
   "source": [
    "product_3_revenue.tail(1)"
   ]
  },
  {
   "cell_type": "code",
   "execution_count": 50,
   "metadata": {},
   "outputs": [
    {
     "data": {
      "image/png": "[encoded data removed]",
      "text/plain": [
       "<Figure size 1000x700 with 1 Axes>"
      ]
     },
     "metadata": {},
     "output_type": "display_data"
    }
   ],
   "source": [
    "# Calculate top 1 and bottom 1 products based on revenue\n",
    "top_products = product_3_revenue.nlargest(1, 'net_profit')\n",
    "bottom_products = product_3_revenue.nsmallest(1, 'net_profit')\n",
    "\n",
    "# Calculate total revenues\n",
    "total_top_revenue = top_products['net_profit'].sum()\n",
    "total_bottom_revenue = bottom_products['net_profit'].sum()\n",
    "total_other_revenue = product_3_revenue['net_profit'].sum() - total_top_revenue - total_bottom_revenue\n",
    "\n",
    "# Prepare data for the pie chart\n",
    "labels = [top_products['name'].iloc[0], bottom_products['name'].iloc[0], 'Others']\n",
    "sizes = [total_top_revenue, total_bottom_revenue, total_other_revenue]\n",
    "colors = ['lightgreen', 'lightcoral', 'lightgrey']\n",
    "\n",
    "# Create the pie chart\n",
    "plt.figure(figsize=(10, 7))\n",
    "plt.pie(sizes, labels=labels, colors=colors, startangle=140, autopct='%1.1f%%')\n",
    "plt.title(f'Total Net Profit Distribution of Products in {best_category}')\n",
    "plt.axis('equal')  # Equal aspect ratio ensures that pie is drawn as a circle.\n",
    "plt.show()"
   ]
  },
  {
   "cell_type": "markdown",
   "metadata": {},
   "source": [
    "# point 4"
   ]
  },
  {
   "cell_type": "code",
   "execution_count": 52,
   "metadata": {},
   "outputs": [],
   "source": [
    "products = pd.merge(products, ratings, on = ['order_id', 'product_id'], how = 'left')"
   ]
  },
  {
   "cell_type": "code",
   "execution_count": 53,
   "metadata": {},
   "outputs": [],
   "source": [
    "product_4 = products[products['category_1']==best_category]\n",
    "product_4 = product_4[product_4['rating'].notna()]"
   ]
  },
  {
   "cell_type": "code",
   "execution_count": null,
   "metadata": {},
   "outputs": [
    {
     "data": {
      "text/plain": [
       "4.06239265055149"
      ]
     },
     "execution_count": 55,
     "metadata": {},
     "output_type": "execute_result"
    }
   ],
   "source": [
    "product_4_mean = product_4.groupby(['product_id', 'name'], as_index = False)['rating'].mean()\n",
    "m = product_4_mean['rating'].mean()"
   ]
  },
  {
   "cell_type": "code",
   "execution_count": 56,
   "metadata": {},
   "outputs": [
    {
     "data": {
      "image/png": "[encoded data removed]",
      "text/plain": [
       "<Figure size 2000x700 with 1 Axes>"
      ]
     },
     "metadata": {},
     "output_type": "display_data"
    }
   ],
   "source": [
    "product_4_mean['id2name'] = product_4_mean.apply(lambda x: f\"{x['product_id']}: {x['name']}\" , axis=1)\n",
    "product_4_mean_sorted = product_4_mean.sort_values(by='rating', ascending=False)\n",
    "\n",
    "plt.figure(figsize=(20, 7))\n",
    "\n",
    "bars = plt.bar(product_4_mean_sorted['product_id'].astype(str), \n",
    "               product_4_mean_sorted['rating'], color='skyblue')\n",
    "\n",
    "plt.xlabel('Product ID')\n",
    "plt.ylabel('Average Rating')\n",
    "plt.title('Product Ratings in Descending Order')\n",
    "\n",
    "plt.axhline(y=m, color='red', linestyle='--', label='Average')\n",
    "\n",
    "product_names = product_4_mean_sorted['id2name'].values\n",
    "plt.legend(bars, product_names, title=\"Product Names\", loc='upper left', bbox_to_anchor=(1.05, 1))\n",
    "\n",
    "plt.tight_layout()\n",
    "plt.show()"
   ]
  },
  {
   "cell_type": "code",
   "execution_count": null,
   "metadata": {},
   "outputs": [
    {
     "data": {
      "text/html": [
       "<div>\n",
       "<style scoped>\n",
       "    .dataframe tbody tr th:only-of-type {\n",
       "        vertical-align: middle;\n",
       "    }\n",
       "\n",
       "    .dataframe tbody tr th {\n",
       "        vertical-align: top;\n",
       "    }\n",
       "\n",
       "    .dataframe thead th {\n",
       "        text-align: right;\n",
       "    }\n",
       "</style>\n",
       "<table border=\"1\" class=\"dataframe\">\n",
       "  <thead>\n",
       "    <tr style=\"text-align: right;\">\n",
       "      <th></th>\n",
       "      <th>product_id</th>\n",
       "      <th>name</th>\n",
       "      <th>rating</th>\n",
       "      <th>id2name</th>\n",
       "      <th>rating_diff_from_mean</th>\n",
       "    </tr>\n",
       "  </thead>\n",
       "  <tbody>\n",
       "    <tr>\n",
       "      <th>26</th>\n",
       "      <td>78</td>\n",
       "      <td>Garmin Vivoactive 4S\\n40 mm, Polymère</td>\n",
       "      <td>3.212714</td>\n",
       "      <td>78: Garmin Vivoactive 4S\\n40 mm, Polymère</td>\n",
       "      <td>-0.849679</td>\n",
       "    </tr>\n",
       "  </tbody>\n",
       "</table>\n",
       "</div>"
      ],
      "text/plain": [
       "    product_id                                   name    rating  \\\n",
       "26          78  Garmin Vivoactive 4S\\n40 mm, Polymère  3.212714   \n",
       "\n",
       "                                      id2name  rating_diff_from_mean  \n",
       "26  78: Garmin Vivoactive 4S\\n40 mm, Polymère              -0.849679  "
      ]
     },
     "execution_count": 58,
     "metadata": {},
     "output_type": "execute_result"
    }
   ],
   "source": [
    "product_4_mean['rating_diff_from_mean'] = product_4_mean['rating'] - m"
   ]
  },
  {
   "cell_type": "code",
   "execution_count": 62,
   "metadata": {},
   "outputs": [
    {
     "data": {
      "text/html": [
       "<div>\n",
       "<style scoped>\n",
       "    .dataframe tbody tr th:only-of-type {\n",
       "        vertical-align: middle;\n",
       "    }\n",
       "\n",
       "    .dataframe tbody tr th {\n",
       "        vertical-align: top;\n",
       "    }\n",
       "\n",
       "    .dataframe thead th {\n",
       "        text-align: right;\n",
       "    }\n",
       "</style>\n",
       "<table border=\"1\" class=\"dataframe\">\n",
       "  <thead>\n",
       "    <tr style=\"text-align: right;\">\n",
       "      <th></th>\n",
       "      <th>product_id</th>\n",
       "      <th>name</th>\n",
       "      <th>rating</th>\n",
       "      <th>id2name</th>\n",
       "      <th>rating_diff_from_mean</th>\n",
       "    </tr>\n",
       "  </thead>\n",
       "  <tbody>\n",
       "    <tr>\n",
       "      <th>26</th>\n",
       "      <td>78</td>\n",
       "      <td>Garmin Vivoactive 4S\\n40 mm, Polymère</td>\n",
       "      <td>3.212714</td>\n",
       "      <td>78: Garmin Vivoactive 4S\\n40 mm, Polymère</td>\n",
       "      <td>-0.849679</td>\n",
       "    </tr>\n",
       "  </tbody>\n",
       "</table>\n",
       "</div>"
      ],
      "text/plain": [
       "    product_id                                   name    rating  \\\n",
       "26          78  Garmin Vivoactive 4S\\n40 mm, Polymère  3.212714   \n",
       "\n",
       "                                      id2name  rating_diff_from_mean  \n",
       "26  78: Garmin Vivoactive 4S\\n40 mm, Polymère              -0.849679  "
      ]
     },
     "execution_count": 62,
     "metadata": {},
     "output_type": "execute_result"
    }
   ],
   "source": [
    "product_4_mean.sort_values('rating_diff_from_mean').head(1)"
   ]
  },
  {
   "cell_type": "code",
   "execution_count": 60,
   "metadata": {},
   "outputs": [
    {
     "data": {
      "text/html": [
       "<div>\n",
       "<style scoped>\n",
       "    .dataframe tbody tr th:only-of-type {\n",
       "        vertical-align: middle;\n",
       "    }\n",
       "\n",
       "    .dataframe tbody tr th {\n",
       "        vertical-align: top;\n",
       "    }\n",
       "\n",
       "    .dataframe thead th {\n",
       "        text-align: right;\n",
       "    }\n",
       "</style>\n",
       "<table border=\"1\" class=\"dataframe\">\n",
       "  <thead>\n",
       "    <tr style=\"text-align: right;\">\n",
       "      <th></th>\n",
       "      <th>product_id</th>\n",
       "      <th>name</th>\n",
       "      <th>rating</th>\n",
       "      <th>id2name</th>\n",
       "      <th>rating_diff_from_mean</th>\n",
       "    </tr>\n",
       "  </thead>\n",
       "  <tbody>\n",
       "    <tr>\n",
       "      <th>28</th>\n",
       "      <td>94</td>\n",
       "      <td>Logitech MX Keys S Combo\\nSans fil</td>\n",
       "      <td>4.41573</td>\n",
       "      <td>94: Logitech MX Keys S Combo\\nSans fil</td>\n",
       "      <td>0.353338</td>\n",
       "    </tr>\n",
       "  </tbody>\n",
       "</table>\n",
       "</div>"
      ],
      "text/plain": [
       "    product_id                                name   rating  \\\n",
       "28          94  Logitech MX Keys S Combo\\nSans fil  4.41573   \n",
       "\n",
       "                                   id2name  rating_diff_from_mean  \n",
       "28  94: Logitech MX Keys S Combo\\nSans fil               0.353338  "
      ]
     },
     "execution_count": 60,
     "metadata": {},
     "output_type": "execute_result"
    }
   ],
   "source": [
    "product_4_mean.sort_values('rating_diff_from_mean').tail(1)"
   ]
  },
  {
   "cell_type": "markdown",
   "metadata": {},
   "source": [
    "# point 5"
   ]
  },
  {
   "cell_type": "code",
   "execution_count": 63,
   "metadata": {},
   "outputs": [],
   "source": [
    "products_5 = products.groupby('client_id', as_index=False)['net_profit'].sum()\n",
    "best_client_id = products_5.sort_values(by='net_profit').tail(1)['client_id'].iloc[0]"
   ]
  },
  {
   "cell_type": "code",
   "execution_count": 64,
   "metadata": {},
   "outputs": [
    {
     "name": "stdout",
     "output_type": "stream",
     "text": [
      "first and last name of the best client (by net profit):\n"
     ]
    },
    {
     "data": {
      "text/html": [
       "<div>\n",
       "<style scoped>\n",
       "    .dataframe tbody tr th:only-of-type {\n",
       "        vertical-align: middle;\n",
       "    }\n",
       "\n",
       "    .dataframe tbody tr th {\n",
       "        vertical-align: top;\n",
       "    }\n",
       "\n",
       "    .dataframe thead th {\n",
       "        text-align: right;\n",
       "    }\n",
       "</style>\n",
       "<table border=\"1\" class=\"dataframe\">\n",
       "  <thead>\n",
       "    <tr style=\"text-align: right;\">\n",
       "      <th></th>\n",
       "      <th>client_id</th>\n",
       "      <th>first_name</th>\n",
       "      <th>last_name</th>\n",
       "    </tr>\n",
       "  </thead>\n",
       "  <tbody>\n",
       "    <tr>\n",
       "      <th>19</th>\n",
       "      <td>n3-534944N</td>\n",
       "      <td>Camille</td>\n",
       "      <td>Bouvier</td>\n",
       "    </tr>\n",
       "  </tbody>\n",
       "</table>\n",
       "</div>"
      ],
      "text/plain": [
       "     client_id first_name last_name\n",
       "19  n3-534944N    Camille   Bouvier"
      ]
     },
     "metadata": {},
     "output_type": "display_data"
    }
   ],
   "source": [
    "print(\"first and last name of the best client (by net profit):\")\n",
    "display(clients[clients.client_id == best_client_id][['client_id', 'first_name', 'last_name']])"
   ]
  },
  {
   "cell_type": "code",
   "execution_count": 65,
   "metadata": {},
   "outputs": [],
   "source": [
    "best_client_products = products[products['client_id']==best_client_id]"
   ]
  },
  {
   "cell_type": "code",
   "execution_count": 66,
   "metadata": {},
   "outputs": [
    {
     "name": "stdout",
     "output_type": "stream",
     "text": [
      "net profit of the best client:\n",
      "3412.4089999999997\n"
     ]
    }
   ],
   "source": [
    "print(\"net profit of the best client:\")\n",
    "print(best_client_products['net_profit'].sum())"
   ]
  },
  {
   "cell_type": "code",
   "execution_count": 67,
   "metadata": {},
   "outputs": [
    {
     "name": "stdout",
     "output_type": "stream",
     "text": [
      "Number of orders she/he has made: 35\n",
      "Number of unique product she/he has bought: 67\n"
     ]
    }
   ],
   "source": [
    "print(\"Number of orders she/he has made:\", best_client_products['order_id'].nunique())\n",
    "print(\"Number of unique product she/he has bought:\", best_client_products['product_id'].nunique())"
   ]
  },
  {
   "cell_type": "code",
   "execution_count": 68,
   "metadata": {},
   "outputs": [],
   "source": [
    "products_5_2 = products.groupby('client_id', as_index=False)['order_id'].nunique()\n",
    "best_client_id_2 = products_5_2.sort_values(by='order_id').tail(1)['client_id'].iloc[0]"
   ]
  },
  {
   "cell_type": "code",
   "execution_count": 69,
   "metadata": {},
   "outputs": [
    {
     "name": "stdout",
     "output_type": "stream",
     "text": [
      "first and last name of the best client (by orders):\n"
     ]
    },
    {
     "data": {
      "text/html": [
       "<div>\n",
       "<style scoped>\n",
       "    .dataframe tbody tr th:only-of-type {\n",
       "        vertical-align: middle;\n",
       "    }\n",
       "\n",
       "    .dataframe tbody tr th {\n",
       "        vertical-align: top;\n",
       "    }\n",
       "\n",
       "    .dataframe thead th {\n",
       "        text-align: right;\n",
       "    }\n",
       "</style>\n",
       "<table border=\"1\" class=\"dataframe\">\n",
       "  <thead>\n",
       "    <tr style=\"text-align: right;\">\n",
       "      <th></th>\n",
       "      <th>client_id</th>\n",
       "      <th>first_name</th>\n",
       "      <th>last_name</th>\n",
       "    </tr>\n",
       "  </thead>\n",
       "  <tbody>\n",
       "    <tr>\n",
       "      <th>9</th>\n",
       "      <td>V2-3192466U</td>\n",
       "      <td>Théo</td>\n",
       "      <td>Martin</td>\n",
       "    </tr>\n",
       "  </tbody>\n",
       "</table>\n",
       "</div>"
      ],
      "text/plain": [
       "     client_id first_name last_name\n",
       "9  V2-3192466U       Théo    Martin"
      ]
     },
     "metadata": {},
     "output_type": "display_data"
    }
   ],
   "source": [
    "print(\"first and last name of the best client (by orders):\")\n",
    "display(clients[clients.client_id == best_client_id_2][['client_id', 'first_name', 'last_name']])"
   ]
  },
  {
   "cell_type": "code",
   "execution_count": 70,
   "metadata": {},
   "outputs": [],
   "source": [
    "best_client_products_2 = products[products['client_id']==best_client_id_2]"
   ]
  },
  {
   "cell_type": "code",
   "execution_count": 71,
   "metadata": {},
   "outputs": [
    {
     "name": "stdout",
     "output_type": "stream",
     "text": [
      "Net profit of the best client: 2335.778\n",
      "Number of orders she/he has made: 45\n",
      "Number of unique product she/he has bought: 64\n"
     ]
    }
   ],
   "source": [
    "print(\"Net profit of the best client:\", best_client_products_2['net_profit'].sum())\n",
    "print(\"Number of orders she/he has made:\", best_client_products_2['order_id'].nunique())\n",
    "print(\"Number of unique product she/he has bought:\", best_client_products_2['product_id'].nunique())"
   ]
  },
  {
   "cell_type": "markdown",
   "metadata": {},
   "source": [
    "| Best Clients                        | Number of Orders | Net Profit | Number of Orders % | Net Profit % |\n",
    "|-------------------------------|------------------|------------|------------------------|------------------|\n",
    "| Théo Martin (by Orders)         | **45**               | 2335.78    | 0.039%               | 0.044%         |\n",
    "| Camille Bouvier (by Net Profit)     | 35               | **3412.41**    | 0.031%               | 0.064%         |"
   ]
  },
  {
   "cell_type": "markdown",
   "metadata": {},
   "source": [
    "# point 6"
   ]
  },
  {
   "cell_type": "code",
   "execution_count": null,
   "metadata": {},
   "outputs": [],
   "source": [
    "products = pd.merge(products, clients[['client_id', 'address_canton']], on='client_id', how='left')"
   ]
  },
  {
   "cell_type": "code",
   "execution_count": null,
   "metadata": {},
   "outputs": [],
   "source": [
    "products_6 = products.groupby('address_canton', as_index=False)['net_profit'].sum()"
   ]
  },
  {
   "cell_type": "code",
   "execution_count": null,
   "metadata": {},
   "outputs": [
    {
     "name": "stdout",
     "output_type": "stream",
     "text": [
      "top 5 cantonts:\n"
     ]
    },
    {
     "data": {
      "text/html": [
       "<div>\n",
       "<style scoped>\n",
       "    .dataframe tbody tr th:only-of-type {\n",
       "        vertical-align: middle;\n",
       "    }\n",
       "\n",
       "    .dataframe tbody tr th {\n",
       "        vertical-align: top;\n",
       "    }\n",
       "\n",
       "    .dataframe thead th {\n",
       "        text-align: right;\n",
       "    }\n",
       "</style>\n",
       "<table border=\"1\" class=\"dataframe\">\n",
       "  <thead>\n",
       "    <tr style=\"text-align: right;\">\n",
       "      <th></th>\n",
       "      <th>address_canton</th>\n",
       "      <th>net_profit</th>\n",
       "    </tr>\n",
       "  </thead>\n",
       "  <tbody>\n",
       "    <tr>\n",
       "      <th>7</th>\n",
       "      <td>GE</td>\n",
       "      <td>333748.332</td>\n",
       "    </tr>\n",
       "    <tr>\n",
       "      <th>0</th>\n",
       "      <td>AG</td>\n",
       "      <td>400888.752</td>\n",
       "    </tr>\n",
       "    <tr>\n",
       "      <th>22</th>\n",
       "      <td>VD</td>\n",
       "      <td>475382.172</td>\n",
       "    </tr>\n",
       "    <tr>\n",
       "      <th>3</th>\n",
       "      <td>BE</td>\n",
       "      <td>613060.617</td>\n",
       "    </tr>\n",
       "    <tr>\n",
       "      <th>25</th>\n",
       "      <td>ZH</td>\n",
       "      <td>1105821.434</td>\n",
       "    </tr>\n",
       "  </tbody>\n",
       "</table>\n",
       "</div>"
      ],
      "text/plain": [
       "   address_canton   net_profit\n",
       "7              GE   333748.332\n",
       "0              AG   400888.752\n",
       "22             VD   475382.172\n",
       "3              BE   613060.617\n",
       "25             ZH  1105821.434"
      ]
     },
     "metadata": {},
     "output_type": "display_data"
    }
   ],
   "source": [
    "print(\"top 5 cantonts:\")\n",
    "top_cantons = products_6.sort_values(by='net_profit').tail(5)\n",
    "display(top_cantons)"
   ]
  },
  {
   "cell_type": "code",
   "execution_count": null,
   "metadata": {},
   "outputs": [
    {
     "name": "stdout",
     "output_type": "stream",
     "text": [
      "net profit fraction of top cantons:\n",
      "0.551008785329706\n"
     ]
    }
   ],
   "source": [
    "print('net profit fraction of top cantons:')\n",
    "print(top_cantons['net_profit'].sum() / products['net_profit'].sum())"
   ]
  },
  {
   "cell_type": "code",
   "execution_count": null,
   "metadata": {},
   "outputs": [
    {
     "name": "stdout",
     "output_type": "stream",
     "text": [
      "bottom 5 cantonts:\n"
     ]
    },
    {
     "data": {
      "text/html": [
       "<div>\n",
       "<style scoped>\n",
       "    .dataframe tbody tr th:only-of-type {\n",
       "        vertical-align: middle;\n",
       "    }\n",
       "\n",
       "    .dataframe tbody tr th {\n",
       "        vertical-align: top;\n",
       "    }\n",
       "\n",
       "    .dataframe thead th {\n",
       "        text-align: right;\n",
       "    }\n",
       "</style>\n",
       "<table border=\"1\" class=\"dataframe\">\n",
       "  <thead>\n",
       "    <tr style=\"text-align: right;\">\n",
       "      <th></th>\n",
       "      <th>address_canton</th>\n",
       "      <th>net_profit</th>\n",
       "    </tr>\n",
       "  </thead>\n",
       "  <tbody>\n",
       "    <tr>\n",
       "      <th>1</th>\n",
       "      <td>AI</td>\n",
       "      <td>12298.414</td>\n",
       "    </tr>\n",
       "    <tr>\n",
       "      <th>21</th>\n",
       "      <td>UR</td>\n",
       "      <td>16092.129</td>\n",
       "    </tr>\n",
       "    <tr>\n",
       "      <th>8</th>\n",
       "      <td>GL</td>\n",
       "      <td>22110.640</td>\n",
       "    </tr>\n",
       "    <tr>\n",
       "      <th>14</th>\n",
       "      <td>OW</td>\n",
       "      <td>28155.504</td>\n",
       "    </tr>\n",
       "    <tr>\n",
       "      <th>10</th>\n",
       "      <td>JU</td>\n",
       "      <td>30908.499</td>\n",
       "    </tr>\n",
       "  </tbody>\n",
       "</table>\n",
       "</div>"
      ],
      "text/plain": [
       "   address_canton  net_profit\n",
       "1              AI   12298.414\n",
       "21             UR   16092.129\n",
       "8              GL   22110.640\n",
       "14             OW   28155.504\n",
       "10             JU   30908.499"
      ]
     },
     "metadata": {},
     "output_type": "display_data"
    }
   ],
   "source": [
    "print(\"bottom 5 cantonts:\")\n",
    "bottom_cantons = products_6.sort_values(by='net_profit').head(5)\n",
    "display(bottom_cantons)"
   ]
  },
  {
   "cell_type": "code",
   "execution_count": null,
   "metadata": {},
   "outputs": [
    {
     "name": "stdout",
     "output_type": "stream",
     "text": [
      "net profit fraction of top cantons:\n",
      "0.02061229578067285\n"
     ]
    }
   ],
   "source": [
    "print('net profit fraction of top cantons:')\n",
    "print(bottom_cantons['net_profit'].sum() / products['net_profit'].sum())"
   ]
  },
  {
   "cell_type": "code",
   "execution_count": null,
   "metadata": {},
   "outputs": [],
   "source": [
    "# TODO: plot"
   ]
  },
  {
   "cell_type": "code",
   "execution_count": null,
   "metadata": {},
   "outputs": [
    {
     "data": {
      "image/png": "[encoded data removed]",
      "text/plain": [
       "<Figure size 1000x600 with 1 Axes>"
      ]
     },
     "metadata": {},
     "output_type": "display_data"
    }
   ],
   "source": [
    "import matplotlib.patches as mpatches\n",
    "\n",
    "products_6_sorted = products_6.sort_values('net_profit', ascending=False)\n",
    "colors = ['red' if canton in bottom_cantons['address_canton'].unique() else 'green' if canton in top_cantons['address_canton'].unique() else 'skyblue' for canton in products_6_sorted['address_canton']]\n",
    "\n",
    "# Plot\n",
    "plt.figure(figsize=(10, 6))\n",
    "bars = plt.bar(products_6_sorted['address_canton'], products_6_sorted['net_profit'], color=colors)\n",
    "\n",
    "red_patch = mpatches.Patch(color='red', label='5 Cantons with the lowest net profit')\n",
    "green_patch = mpatches.Patch(color='green', label='5 Cantons with the highest net profit')\n",
    "plt.legend(handles=[green_patch, red_patch], loc='upper right')\n",
    "\n",
    "# Add labels and title\n",
    "plt.xlabel('Address Canton')\n",
    "plt.ylabel('Average Basket')\n",
    "plt.title('Average Basket by Canton')\n",
    "plt.xticks(rotation=90)\n",
    "\n",
    "# Show the plot\n",
    "plt.tight_layout()\n",
    "plt.show()"
   ]
  },
  {
   "cell_type": "markdown",
   "metadata": {},
   "source": [
    "# point 7"
   ]
  },
  {
   "cell_type": "code",
   "execution_count": null,
   "metadata": {},
   "outputs": [
    {
     "name": "stdout",
     "output_type": "stream",
     "text": [
      "canton with the highest net profit: ZH\n"
     ]
    }
   ],
   "source": [
    "best_canton = products_6.sort_values(by='net_profit').tail(1)['address_canton'].iloc[0]\n",
    "print(\"canton with the highest net profit:\", best_canton)"
   ]
  },
  {
   "cell_type": "code",
   "execution_count": null,
   "metadata": {},
   "outputs": [],
   "source": [
    "average_basket = products.groupby('address_canton', as_index=False).agg(\n",
    "    sales_sum=('sales', 'sum'),\n",
    "    unique_orders=('order_id', 'nunique')\n",
    ")\n",
    "\n",
    "average_basket['average_basket'] = average_basket['sales_sum'] / average_basket['unique_orders']"
   ]
  },
  {
   "cell_type": "code",
   "execution_count": null,
   "metadata": {},
   "outputs": [],
   "source": [
    "best_canton_ab = average_basket[average_basket['address_canton']==best_canton]['average_basket'].iloc[0]"
   ]
  },
  {
   "cell_type": "code",
   "execution_count": null,
   "metadata": {},
   "outputs": [
    {
     "name": "stdout",
     "output_type": "stream",
     "text": [
      "Cantons with higher average basket that the one with the highest net profit:\n"
     ]
    },
    {
     "data": {
      "text/html": [
       "<div>\n",
       "<style scoped>\n",
       "    .dataframe tbody tr th:only-of-type {\n",
       "        vertical-align: middle;\n",
       "    }\n",
       "\n",
       "    .dataframe tbody tr th {\n",
       "        vertical-align: top;\n",
       "    }\n",
       "\n",
       "    .dataframe thead th {\n",
       "        text-align: right;\n",
       "    }\n",
       "</style>\n",
       "<table border=\"1\" class=\"dataframe\">\n",
       "  <thead>\n",
       "    <tr style=\"text-align: right;\">\n",
       "      <th></th>\n",
       "      <th>address_canton</th>\n",
       "      <th>sales_sum</th>\n",
       "      <th>unique_orders</th>\n",
       "      <th>average_basket</th>\n",
       "    </tr>\n",
       "  </thead>\n",
       "  <tbody>\n",
       "    <tr>\n",
       "      <th>13</th>\n",
       "      <td>NW</td>\n",
       "      <td>409978.32</td>\n",
       "      <td>656</td>\n",
       "      <td>624.966951</td>\n",
       "    </tr>\n",
       "    <tr>\n",
       "      <th>14</th>\n",
       "      <td>OW</td>\n",
       "      <td>322934.10</td>\n",
       "      <td>531</td>\n",
       "      <td>608.162147</td>\n",
       "    </tr>\n",
       "    <tr>\n",
       "      <th>18</th>\n",
       "      <td>SZ</td>\n",
       "      <td>1557743.86</td>\n",
       "      <td>2281</td>\n",
       "      <td>682.921464</td>\n",
       "    </tr>\n",
       "    <tr>\n",
       "      <th>24</th>\n",
       "      <td>ZG</td>\n",
       "      <td>1244829.37</td>\n",
       "      <td>1763</td>\n",
       "      <td>706.085859</td>\n",
       "    </tr>\n",
       "  </tbody>\n",
       "</table>\n",
       "</div>"
      ],
      "text/plain": [
       "   address_canton   sales_sum  unique_orders  average_basket\n",
       "13             NW   409978.32            656      624.966951\n",
       "14             OW   322934.10            531      608.162147\n",
       "18             SZ  1557743.86           2281      682.921464\n",
       "24             ZG  1244829.37           1763      706.085859"
      ]
     },
     "metadata": {},
     "output_type": "display_data"
    }
   ],
   "source": [
    "print('Cantons with higher average basket that the one with the highest net profit:')\n",
    "display(average_basket[average_basket['average_basket'] > best_canton_ab])"
   ]
  },
  {
   "cell_type": "code",
   "execution_count": null,
   "metadata": {},
   "outputs": [
    {
     "data": {
      "image/png": "[encoded data removed]",
      "text/plain": [
       "<Figure size 1000x600 with 1 Axes>"
      ]
     },
     "metadata": {},
     "output_type": "display_data"
    }
   ],
   "source": [
    "import matplotlib.patches as mpatches\n",
    "\n",
    "average_basket_sorted = average_basket.sort_values('average_basket', ascending=False)\n",
    "colors = ['red' if canton == best_canton else 'skyblue' for canton in average_basket_sorted['address_canton']]\n",
    "\n",
    "# Plot\n",
    "plt.figure(figsize=(10, 6))\n",
    "bars = plt.bar(average_basket_sorted['address_canton'], average_basket_sorted['average_basket'], color=colors)\n",
    "\n",
    "red_patch = mpatches.Patch(color='red', label='Canton with the highest net profit')\n",
    "plt.legend(handles=[red_patch], loc='upper right')\n",
    "\n",
    "# Add labels and title\n",
    "plt.xlabel('Address Canton')\n",
    "plt.ylabel('Average Basket')\n",
    "plt.title('Average Basket by Canton')\n",
    "plt.xticks(rotation=90)\n",
    "\n",
    "# Show the plot\n",
    "plt.tight_layout()\n",
    "plt.show()"
   ]
  }
 ],
 "metadata": {
  "kernelspec": {
   "display_name": "msf",
   "language": "python",
   "name": "python3"
  },
  "language_info": {
   "codemirror_mode": {
    "name": "ipython",
    "version": 3
   },
   "file_extension": ".py",
   "mimetype": "text/x-python",
   "name": "python",
   "nbconvert_exporter": "python",
   "pygments_lexer": "ipython3",
   "version": "3.12.7"
  }
 },
 "nbformat": 4,
 "nbformat_minor": 2
}
